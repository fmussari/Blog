{
 "cells": [
  {
   "cell_type": "raw",
   "id": "02eaad22-f340-4c5f-8969-f7d44f6423e0",
   "metadata": {},
   "source": [
    "---\n",
    "title: Creating a minimal custom Jupyter widget\n",
    "date: 2022-06-23\n",
    "categories: [jupyter]\n",
    "---"
   ]
  },
  {
   "cell_type": "markdown",
   "id": "800dec50",
   "metadata": {},
   "source": [
    "I couldn't find a super minimal example of implementing a custom Jupyter widget, so here it is. This is based on Pierre Marion's [_Binder Repo for Hello World Jupyter Widget_](https://github.com/PierreMarion23/jupyter-widget-hello-world-binder)."
   ]
  },
  {
   "cell_type": "code",
   "execution_count": null,
   "id": "7e052724",
   "metadata": {},
   "outputs": [],
   "source": [
    "import ipywidgets as widgets\n",
    "from traitlets import Unicode, validate\n",
    "\n",
    "\n",
    "class HelloWidget(widgets.DOMWidget):\n",
    "    _view_name = Unicode('HelloView').tag(sync=True)\n",
    "    _view_module = Unicode('hello').tag(sync=True)\n",
    "    _view_module_version = Unicode('0.1.0').tag(sync=True)\n",
    "    value = Unicode('Hello World!').tag(sync=True)"
   ]
  },
  {
   "cell_type": "code",
   "execution_count": null,
   "id": "ab039400",
   "metadata": {},
   "outputs": [
    {
     "data": {
      "application/javascript": [
       "require.undef('hello');\n",
       "\n",
       "define('hello', [\"@jupyter-widgets/base\"], function(widgets) {\n",
       "\n",
       "    var HelloView = widgets.DOMWidgetView.extend({\n",
       "\n",
       "        render: function() { \n",
       "            this.el.textContent = this.model.get('value'); \n",
       "        },\n",
       "    });\n",
       "\n",
       "    return {\n",
       "        HelloView : HelloView\n",
       "    };\n",
       "});\n"
      ],
      "text/plain": [
       "<IPython.core.display.Javascript object>"
      ]
     },
     "metadata": {},
     "output_type": "display_data"
    }
   ],
   "source": [
    "%%javascript\n",
    "require.undef('hello');\n",
    "\n",
    "define('hello', [\"@jupyter-widgets/base\"], function(widgets) {\n",
    "\n",
    "    var HelloView = widgets.DOMWidgetView.extend({\n",
    "\n",
    "        render: function() { \n",
    "            this.el.textContent = this.model.get('value'); \n",
    "        },\n",
    "    });\n",
    "\n",
    "    return {\n",
    "        HelloView : HelloView\n",
    "    };\n",
    "});"
   ]
  },
  {
   "cell_type": "code",
   "execution_count": null,
   "id": "1b55d278",
   "metadata": {},
   "outputs": [
    {
     "data": {
      "application/vnd.jupyter.widget-view+json": {
       "model_id": "d90cd88266104b9d82e44ddfaf404407",
       "version_major": 2,
       "version_minor": 0
      },
      "text/plain": [
       "HelloWidget()"
      ]
     },
     "metadata": {},
     "output_type": "display_data"
    }
   ],
   "source": [
    "HelloWidget()"
   ]
  },
  {
   "cell_type": "markdown",
   "id": "cc666345",
   "metadata": {},
   "source": [
    "## Further reading"
   ]
  },
  {
   "cell_type": "markdown",
   "id": "493abb91",
   "metadata": {},
   "source": [
    "Here are some great articles that I referenced while exploring this topic:\n",
    "\n",
    "- [Binder Repo for Hello World Jupyter Widget](https://github.com/PierreMarion23/jupyter-widget-hello-world-binder)\n",
    "- [Authoring Custom Jupyter Widgets: A Hands-On Guide](https://blog.jupyter.org/authoring-custom-jupyter-widgets-2884a462e724)\n",
    "- [ipywidgets Official Documentation: Building a Custom Widget - Email widget](https://ipywidgets.readthedocs.io/en/latest/examples/Widget%20Custom.html)\n",
    "- [Binder Repo for Hello World Jupyter Widget](https://github.com/PierreMarion23/jupyter-widget-hello-world-binder)\n",
    "- [IPython Notebook: Javascript/Python Bi-directional Communication](https://jakevdp.github.io/blog/2013/06/01/ipython-notebook-javascript-python-communication/). I think this may have been the birth of ipywidgets!"
   ]
  }
 ],
 "metadata": {
  "kernelspec": {
   "display_name": "Python 3 (ipykernel)",
   "language": "python",
   "name": "python3"
  }
 },
 "nbformat": 4,
 "nbformat_minor": 5
}
