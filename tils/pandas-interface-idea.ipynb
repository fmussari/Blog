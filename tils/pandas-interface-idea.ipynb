{
 "cells": [
  {
   "cell_type": "raw",
   "id": "81520d86",
   "metadata": {},
   "source": [
    "---\n",
    "title: A pandas interface idea\n",
    "draft: true\n",
    "---"
   ]
  },
  {
   "cell_type": "code",
   "execution_count": null,
   "id": "5995b6a7",
   "metadata": {},
   "outputs": [],
   "source": [
    "x = {}"
   ]
  },
  {
   "cell_type": "code",
   "execution_count": null,
   "id": "90641c0f",
   "metadata": {},
   "outputs": [],
   "source": [
    "x[\""
   ]
  },
  {
   "cell_type": "code",
   "execution_count": null,
   "id": "9c007ddf",
   "metadata": {},
   "outputs": [],
   "source": [
    "from fastai.tabular.all import *"
   ]
  },
  {
   "cell_type": "code",
   "execution_count": null,
   "id": "12b16de5",
   "metadata": {},
   "outputs": [],
   "source": [
    "path = untar_data(URLs.ADULT_SAMPLE)\n",
    "df = pd.read_csv(path/'adult.csv')"
   ]
  },
  {
   "cell_type": "code",
   "execution_count": null,
   "id": "649442e2",
   "metadata": {},
   "outputs": [],
   "source": [
    "@patch\n",
    "def filter(self:pd.core.indexes.base.Index, pat): return [c for c in self if re.match(pat, c)]"
   ]
  },
  {
   "cell_type": "code",
   "execution_count": null,
   "id": "136eb325",
   "metadata": {},
   "outputs": [
    {
     "data": {
      "text/plain": [
       "Index(['age', 'workclass', 'fnlwgt', 'education', 'education-num',\n",
       "       'marital-status', 'occupation', 'relationship', 'race', 'sex',\n",
       "       'capital-gain', 'capital-loss', 'hours-per-week', 'native-country',\n",
       "       'salary'],\n",
       "      dtype='object')"
      ]
     },
     "execution_count": null,
     "metadata": {},
     "output_type": "execute_result"
    }
   ],
   "source": [
    "df.columns"
   ]
  },
  {
   "cell_type": "code",
   "execution_count": null,
   "id": "bec564f8",
   "metadata": {},
   "outputs": [],
   "source": [
    "df.columns['"
   ]
  },
  {
   "cell_type": "code",
   "execution_count": null,
   "id": "b9008f9c",
   "metadata": {},
   "outputs": [],
   "source": []
  },
  {
   "cell_type": "code",
   "execution_count": null,
   "id": "8390748a",
   "metadata": {},
   "outputs": [],
   "source": []
  },
  {
   "cell_type": "code",
   "execution_count": null,
   "id": "c3414937",
   "metadata": {},
   "outputs": [],
   "source": []
  },
  {
   "cell_type": "code",
   "execution_count": null,
   "id": "a9f7e51d",
   "metadata": {},
   "outputs": [],
   "source": []
  },
  {
   "cell_type": "code",
   "execution_count": null,
   "id": "dac29ec9",
   "metadata": {},
   "outputs": [],
   "source": []
  },
  {
   "cell_type": "code",
   "execution_count": null,
   "id": "76174976",
   "metadata": {},
   "outputs": [
    {
     "data": {
      "text/plain": [
       "['age']"
      ]
     },
     "execution_count": null,
     "metadata": {},
     "output_type": "execute_result"
    }
   ],
   "source": [
    "df.columns.filter('.*ge')"
   ]
  },
  {
   "cell_type": "code",
   "execution_count": null,
   "id": "98ba2981",
   "metadata": {},
   "outputs": [
    {
     "data": {
      "text/plain": [
       "32561"
      ]
     },
     "execution_count": null,
     "metadata": {},
     "output_type": "execute_result"
    }
   ],
   "source": [
    "len(df)"
   ]
  },
  {
   "cell_type": "code",
   "execution_count": null,
   "id": "2719081a",
   "metadata": {},
   "outputs": [],
   "source": [
    "path = untar_data(URLs.ADULT_SAMPLE)\n",
    "df = pd.read_csv(path/'adult.csv')"
   ]
  },
  {
   "cell_type": "code",
   "execution_count": null,
   "id": "bdb4b2f9",
   "metadata": {},
   "outputs": [],
   "source": [
    "@patch\n",
    "def filter(self:pd.core.indexes.base.Index, pat): return [c for c in self if re.match(pat, c)]\n",
    "\n",
    "df.columns\n",
    "\n",
    "df.columns.filter('.*ge')"
   ]
  },
  {
   "cell_type": "code",
   "execution_count": null,
   "id": "51ea3207",
   "metadata": {},
   "outputs": [],
   "source": [
    "def country(x):\n",
    "    def _inner(df): return df['native-country'] == x\n",
    "    return _inner"
   ]
  },
  {
   "cell_type": "code",
   "execution_count": null,
   "id": "cfce00ce",
   "metadata": {},
   "outputs": [
    {
     "data": {
      "text/plain": [
       "29170"
      ]
     },
     "execution_count": null,
     "metadata": {},
     "output_type": "execute_result"
    }
   ],
   "source": [
    "len(df[country(' United-States')])"
   ]
  },
  {
   "cell_type": "code",
   "execution_count": null,
   "id": "7709be1d",
   "metadata": {},
   "outputs": [],
   "source": [
    "def eq(k, v):\n",
    "    def _inner(df): return df[k] == v\n",
    "    return _inner"
   ]
  },
  {
   "cell_type": "code",
   "execution_count": null,
   "id": "9e8ee340",
   "metadata": {},
   "outputs": [
    {
     "data": {
      "text/plain": [
       "29170"
      ]
     },
     "execution_count": null,
     "metadata": {},
     "output_type": "execute_result"
    }
   ],
   "source": [
    "len(df[eq('native-country', ' United-States')])"
   ]
  },
  {
   "cell_type": "code",
   "execution_count": null,
   "id": "6ebb4353",
   "metadata": {},
   "outputs": [],
   "source": [
    "class Eq:\n",
    "    def __init__(self, df): self.df = df\n",
    "    def __dir__(self): return df.columns\n",
    "    def _ipython_key_completions_(self): return list(df.columns)"
   ]
  },
  {
   "cell_type": "code",
   "execution_count": null,
   "id": "5ad01549",
   "metadata": {},
   "outputs": [
    {
     "data": {
      "text/plain": [
       "32561"
      ]
     },
     "execution_count": null,
     "metadata": {},
     "output_type": "execute_result"
    }
   ],
   "source": [
    "len(df['native-country']==' United-States')"
   ]
  },
  {
   "cell_type": "code",
   "execution_count": null,
   "id": "af86aa43",
   "metadata": {},
   "outputs": [
    {
     "data": {
      "text/plain": [
       "Index([], dtype='object')"
      ]
     },
     "execution_count": null,
     "metadata": {},
     "output_type": "execute_result"
    }
   ],
   "source": [
    "df.columns[df.columns.str.endswith('foo')]"
   ]
  },
  {
   "cell_type": "code",
   "execution_count": null,
   "id": "74c5d118",
   "metadata": {},
   "outputs": [
    {
     "ename": "AttributeError",
     "evalue": "'Index' object has no attribute 'filter'",
     "output_type": "error",
     "traceback": [
      "\u001b[0;31m---------------------------------------------------------------------------\u001b[0m",
      "\u001b[0;31mAttributeError\u001b[0m                            Traceback (most recent call last)",
      "Cell \u001b[0;32mIn [47], line 1\u001b[0m\n\u001b[0;32m----> 1\u001b[0m \u001b[43mdf\u001b[49m\u001b[38;5;241;43m.\u001b[39;49m\u001b[43mcolumns\u001b[49m\u001b[38;5;241;43m.\u001b[39;49m\u001b[43mfilter\u001b[49m\n",
      "\u001b[0;31mAttributeError\u001b[0m: 'Index' object has no attribute 'filter'"
     ]
    }
   ],
   "source": [
    "df.columns.filter"
   ]
  },
  {
   "cell_type": "code",
   "execution_count": null,
   "id": "49225583",
   "metadata": {},
   "outputs": [
    {
     "data": {
      "text/plain": [
       "pandas.core.indexes.base.Index"
      ]
     },
     "execution_count": null,
     "metadata": {},
     "output_type": "execute_result"
    }
   ],
   "source": [
    "type(df.columns)"
   ]
  }
 ],
 "metadata": {
  "kernelspec": {
   "display_name": "Python 3 (ipykernel)",
   "language": "python",
   "name": "python3"
  }
 },
 "nbformat": 4,
 "nbformat_minor": 5
}
