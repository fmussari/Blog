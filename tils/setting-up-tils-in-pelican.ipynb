{
 "cells": [
  {
   "cell_type": "raw",
   "id": "92710760-5ef9-418d-b6f0-c5237697e5ec",
   "metadata": {},
   "source": [
    "---\n",
    "title: Setting up TILs in Pelican\n",
    "date: 2022-06-21\n",
    "categories: [pelican]\n",
    "---"
   ]
  },
  {
   "cell_type": "markdown",
   "id": "cdb302f2",
   "metadata": {},
   "source": [
    "Inspired by [Simon Willison](https://til.simonwillison.net/), I started writing [TILs](/tils/) (today I learned). I find it incredibly helpful to write as I code, but most of that writing has never left my private notebooks. TILs are my attempt at documenting and sharing my day-to-day learnings in case they might help others. The focus on learning also feels less daunting than writing blog posts.\n",
    "\n",
    "I wanted to support TILs on my blog as a separate set of posts with their own listing page. Thanks to [Pelican's](https://docs.getpelican.com/en) incredible flexibility, this was quite easy!"
   ]
  },
  {
   "cell_type": "markdown",
   "id": "44c80c08",
   "metadata": {},
   "source": [
    "Following these steps requires using a custom theme. I personally use a custom theme (forked from the builtin *simple* theme) precisely so that I can easily make these sorts of customisations."
   ]
  },
  {
   "cell_type": "markdown",
   "id": "36f392a8",
   "metadata": {},
   "source": [
    "## Reconfigure your archives\n",
    "\n",
    "Start by renaming `archives.html` to `posts/index.html` (relative to your theme's `templates` directory).\n",
    "\n",
    "Edit the loop over `dates` in `posts/index.html` to exclude articles tagged `til`:\n",
    "\n",
    "```python\n",
    "{% for article in dates if 'til' not in article.tags|default([]) %}\n",
    "```\n",
    "\n",
    "Add the new path to `DIRECT_TEMPLATES`, the corresponding line of my `pelicanconf.py` now looks like:\n",
    "\n",
    "```python\n",
    "DIRECT_TEMPLATES = ['index', 'posts/index']\n",
    "```\n",
    "\n",
    "... because I don't have tag or category pages yet. Disable the original archives page:\n",
    "\n",
    "```python\n",
    "ARCHIVES_SAVE_AS = ''\n",
    "```\n",
    "\n",
    "It should be working as it was before, but we're now able to add a few more listings in the same way!"
   ]
  },
  {
   "cell_type": "markdown",
   "id": "fd75baa3",
   "metadata": {},
   "source": [
    "## Create the TILs listing\n",
    "\n",
    "Copy `posts/index.html` to `tils/index.html`, and edit the for loop to *only include* articles tagged `til` (note that the `not` from before is missing):\n",
    "\n",
    "```python\n",
    "{% for article in dates if 'til' in article.tags|default([]) %}\n",
    "```\n",
    "\n",
    "Add the new path to `DIRECT_TEMPLATES` in your `pelicanconf.py`:\n",
    "\n",
    "```python\n",
    "DIRECT_TEMPLATES = ['index', 'posts/index', 'tils/index']\n",
    "```\n",
    "\n",
    "You probably also want to link to the listing from your nav bar. For my theme, that's done by adding a line to the `<nav>` tag in my `base.html` template:\n",
    "\n",
    "```html\n",
    "<a href=\"{{ SITEURL }}/tils/\">TILs</a>\n",
    "```"
   ]
  },
  {
   "cell_type": "markdown",
   "id": "890e2cc0",
   "metadata": {},
   "source": [
    "## Hack article URLs"
   ]
  },
  {
   "cell_type": "markdown",
   "id": "2917af8d",
   "metadata": {},
   "source": [
    "This is my favourite part! At this point, you should have two working listings, but TIL article URLs will be the same as any other article. Pelican determines the URL and output location of an article by calling `format` with the article's metadata on strings `ARTICLE_URL` and `ARTICLE_SAVE_AS`. That means we can implement a tiny string class with a custom `format` to dynamically set the URL of TILs to `tils/{slug}` and of posts to `posts/{slug}`!"
   ]
  },
  {
   "cell_type": "markdown",
   "id": "7ed3b2ff",
   "metadata": {},
   "source": [
    "Simply include the following in your `pelicanconf.py`:\n",
    "\n",
    "```python\n",
    "class ArticleUrl(str):\n",
    "    def format(self,tags=[],**kwargs): return ('tils/' if 'til' in tags else 'posts/') + super().format(**kwargs)\n",
    "\n",
    "ARTICLE_URL = ArticleUrl('{slug}/')\n",
    "ARTICLE_SAVE_AS = ArticleUrl('{slug}/index.html')\n",
    "```"
   ]
  },
  {
   "cell_type": "markdown",
   "id": "8f11c0f2",
   "metadata": {},
   "source": [
    "## Update invoke task"
   ]
  },
  {
   "cell_type": "markdown",
   "id": "47845287",
   "metadata": {},
   "source": [
    "If you're using live reload via the `invoke livereload` task, you'll need to update your task definition to include nested HTML files in your theme:\n",
    "\n",
    "```diff\n",
    "-    server.watch('{}/templates/*.html'.format(theme_path), lambda: build(c))\n",
    "+    server.watch('{}/templates/**/*.html'.format(theme_path), lambda: build(c))\n",
    "```"
   ]
  }
 ],
 "metadata": {
  "kernelspec": {
   "display_name": "Python 3 (ipykernel)",
   "language": "python",
   "name": "python3"
  }
 },
 "nbformat": 4,
 "nbformat_minor": 5
}
