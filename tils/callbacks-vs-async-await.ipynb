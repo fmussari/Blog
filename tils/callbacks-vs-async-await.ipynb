{
 "cells": [
  {
   "cell_type": "raw",
   "id": "fcd2f289",
   "metadata": {},
   "source": [
    "---\n",
    "title: \"Callbacks vs async/await\"\n",
    "description: \"A quick demonstration of callbacks vs async/await\"\n",
    "date: 2023-02-13\n",
    "categories: []\n",
    "---"
   ]
  },
  {
   "cell_type": "code",
   "execution_count": null,
   "id": "148e6fe2",
   "metadata": {},
   "outputs": [],
   "source": [
    "import ipywidgets\n",
    "import time\n",
    "from threading import Thread"
   ]
  },
  {
   "cell_type": "markdown",
   "id": "d2fe0213",
   "metadata": {},
   "source": [
    "Let's start with a very simple interface. An input text, a submit button, and an output text (`disabled=True` so that it's not editable):"
   ]
  },
  {
   "cell_type": "code",
   "execution_count": null,
   "id": "3f558b9a",
   "metadata": {},
   "outputs": [
    {
     "data": {
      "application/vnd.jupyter.widget-view+json": {
       "model_id": "4bf5b79bfb63429abe02bb65dbbe9777",
       "version_major": 2,
       "version_minor": 0
      },
      "text/plain": [
       "Text(value='Hey ChatGPT, please summarise this text.')"
      ]
     },
     "metadata": {},
     "output_type": "display_data"
    },
    {
     "data": {
      "application/vnd.jupyter.widget-view+json": {
       "model_id": "f9e78dedd4ce44dc8c63bfa57ef0ca5f",
       "version_major": 2,
       "version_minor": 0
      },
      "text/plain": [
       "Button(description='Submit', style=ButtonStyle())"
      ]
     },
     "metadata": {},
     "output_type": "display_data"
    },
    {
     "data": {
      "application/vnd.jupyter.widget-view+json": {
       "model_id": "ff55d098626e469eab8f3a44b0960030",
       "version_major": 2,
       "version_minor": 0
      },
      "text/plain": [
       "Text(value='', disabled=True)"
      ]
     },
     "metadata": {},
     "output_type": "display_data"
    }
   ],
   "source": [
    "input_ = ipywidgets.Text(\"Hey ChatGPT, please summarise this text.\")\n",
    "button = ipywidgets.Button(description=\"Submit\")\n",
    "output = ipywidgets.Text(disabled=True)\n",
    "display(input_, button, output)"
   ]
  },
  {
   "cell_type": "markdown",
   "id": "3c47896b",
   "metadata": {},
   "source": [
    "This won't do anything yet. We need to setup an `on_click` callback first. We'll fake a request to OpenAI that simply sleeps for half a second then returns a fixed string. Then we'll update the output text's value with the result:"
   ]
  },
  {
   "cell_type": "code",
   "execution_count": null,
   "id": "329b0fd4",
   "metadata": {},
   "outputs": [],
   "source": [
    "def request_open_ai(prompt):\n",
    "    time.sleep(0.5)\n",
    "    return \"Here's a summary of your text.\""
   ]
  },
  {
   "cell_type": "code",
   "execution_count": null,
   "id": "9ed19ad9",
   "metadata": {},
   "outputs": [],
   "source": [
    "def update_output(text):\n",
    "    output.value = text"
   ]
  },
  {
   "cell_type": "code",
   "execution_count": null,
   "id": "3852d547",
   "metadata": {},
   "outputs": [],
   "source": [
    "def on_click(button):\n",
    "    text = request_open_ai(input_.value)\n",
    "    update_output(text)"
   ]
  },
  {
   "cell_type": "code",
   "execution_count": null,
   "id": "15ea8d9e",
   "metadata": {},
   "outputs": [],
   "source": [
    "button.on_click(on_click)"
   ]
  },
  {
   "cell_type": "markdown",
   "id": "91aab218",
   "metadata": {},
   "source": [
    "If you click \"Submit\" now, it should populate the output after half a second."
   ]
  },
  {
   "cell_type": "markdown",
   "id": "37dbb45a",
   "metadata": {},
   "source": [
    "If we do this synchronously and in the main thread, the entire UI will hang during the `requestOpenAi` call. So instead, we can separate that call into another thread. I think ipywidgets already does a version of this for us. But if it didn't, here's a very rough version of how we'd do it:"
   ]
  },
  {
   "cell_type": "code",
   "execution_count": null,
   "id": "dbbc77ee",
   "metadata": {},
   "outputs": [],
   "source": [
    "Thread(target=request_open_ai, args=(input,)).run()"
   ]
  },
  {
   "cell_type": "markdown",
   "id": "eeb25e90",
   "metadata": {},
   "source": [
    "But then how do we get the result and update the output with it? It's often trickier to pass data across threads. Instead, we define our request function so that it accepts a callback that gets called with the result:"
   ]
  },
  {
   "cell_type": "code",
   "execution_count": null,
   "id": "70ee4c97",
   "metadata": {},
   "outputs": [],
   "source": [
    "def request_open_ai(prompt, on_completion):\n",
    "    time.sleep(0.5)\n",
    "    on_completion(\"Here's a summary of your text.\")"
   ]
  },
  {
   "cell_type": "code",
   "execution_count": null,
   "id": "367d7e89",
   "metadata": {},
   "outputs": [],
   "source": [
    "def on_click(button):\n",
    "    Thread(target=request_open_ai, args=(input, update_output)).run()"
   ]
  },
  {
   "cell_type": "code",
   "execution_count": null,
   "id": "b65410e9",
   "metadata": {},
   "outputs": [
    {
     "data": {
      "application/vnd.jupyter.widget-view+json": {
       "model_id": "0dddaf1ad66c40d5942a999cff5760c9",
       "version_major": 2,
       "version_minor": 0
      },
      "text/plain": [
       "Text(value='Hey ChatGPT, please summarise this text.')"
      ]
     },
     "metadata": {},
     "output_type": "display_data"
    },
    {
     "data": {
      "application/vnd.jupyter.widget-view+json": {
       "model_id": "94173406b49540fe89fec9493db08140",
       "version_major": 2,
       "version_minor": 0
      },
      "text/plain": [
       "Button(description='Submit', style=ButtonStyle())"
      ]
     },
     "metadata": {},
     "output_type": "display_data"
    },
    {
     "data": {
      "application/vnd.jupyter.widget-view+json": {
       "model_id": "d95e9bdafdfc4a16839a63992732b04d",
       "version_major": 2,
       "version_minor": 0
      },
      "text/plain": [
       "Text(value='', disabled=True)"
      ]
     },
     "metadata": {},
     "output_type": "display_data"
    }
   ],
   "source": [
    "input_ = ipywidgets.Text(\"Hey ChatGPT, please summarise this text.\")\n",
    "button = ipywidgets.Button(description=\"Submit\")\n",
    "output = ipywidgets.Text(disabled=True)\n",
    "button.on_click(on_click)\n",
    "display(input_, button, output)"
   ]
  },
  {
   "cell_type": "markdown",
   "id": "dabbcaa5",
   "metadata": {},
   "source": [
    "This works okay, but starts to get very confusing as you add more and more nested callbacks. In fact, it can get so bad that it's been nicknamed callback hell. Someone was so frustrated with it that they even created a [website](http://callbackhell.com/)! This is where async/await becomes useful, since it looks a lot more like ordinary programming:"
   ]
  },
  {
   "cell_type": "code",
   "execution_count": null,
   "id": "5106c857",
   "metadata": {},
   "outputs": [],
   "source": [
    "import asyncio"
   ]
  },
  {
   "cell_type": "code",
   "execution_count": null,
   "id": "0aa9c776",
   "metadata": {},
   "outputs": [],
   "source": [
    "async def request_open_ai(prompt):\n",
    "    time.sleep(0.5)\n",
    "    return \"Here's a summary of your text.\""
   ]
  },
  {
   "cell_type": "code",
   "execution_count": null,
   "id": "9f52a088",
   "metadata": {},
   "outputs": [],
   "source": [
    "async def on_click(button):\n",
    "    text = await request_open_ai(input_.value)\n",
    "    update_output(text)"
   ]
  },
  {
   "cell_type": "markdown",
   "id": "d5269fb0",
   "metadata": {},
   "source": [
    "Note how these functions look a lot similar to the original synchronous ones instead of having the weird callbacks."
   ]
  },
  {
   "cell_type": "markdown",
   "id": "9f25b1db",
   "metadata": {},
   "source": [
    "In most UI frameworks, we'd be able to pass in an async function like the new `on_click`. I'm not sure how to do that with ipywidgets, so we need to define a little wrapper that synchronously calls the async function, so we can set it as the button's `on_click` handler (confusing, I know):"
   ]
  },
  {
   "cell_type": "code",
   "execution_count": null,
   "id": "0821929b",
   "metadata": {},
   "outputs": [],
   "source": [
    "def on_click_sync(button):\n",
    "    coroutine = on_click(button)\n",
    "    asyncio.ensure_future(coroutine)"
   ]
  },
  {
   "cell_type": "code",
   "execution_count": null,
   "id": "fa6d1c51",
   "metadata": {},
   "outputs": [
    {
     "data": {
      "application/vnd.jupyter.widget-view+json": {
       "model_id": "19463a60508b44c0be86a16992db82d9",
       "version_major": 2,
       "version_minor": 0
      },
      "text/plain": [
       "Text(value='Hey ChatGPT, please summarise this text.')"
      ]
     },
     "metadata": {},
     "output_type": "display_data"
    },
    {
     "data": {
      "application/vnd.jupyter.widget-view+json": {
       "model_id": "862ae7f2344840ffa0da95efbe739d54",
       "version_major": 2,
       "version_minor": 0
      },
      "text/plain": [
       "Button(description='Submit', style=ButtonStyle())"
      ]
     },
     "metadata": {},
     "output_type": "display_data"
    },
    {
     "data": {
      "application/vnd.jupyter.widget-view+json": {
       "model_id": "3050c63e89844065b950446438bc73e6",
       "version_major": 2,
       "version_minor": 0
      },
      "text/plain": [
       "Text(value='', disabled=True)"
      ]
     },
     "metadata": {},
     "output_type": "display_data"
    }
   ],
   "source": [
    "input_ = ipywidgets.Text(\"Hey ChatGPT, please summarise this text.\")\n",
    "button = ipywidgets.Button(description=\"Submit\")\n",
    "output = ipywidgets.Text(disabled=True)\n",
    "button.on_click(on_click_sync)\n",
    "display(input_, button, output)"
   ]
  }
 ],
 "metadata": {
  "kernelspec": {
   "display_name": "Python 3 (ipykernel)",
   "language": "python",
   "name": "python3"
  }
 },
 "nbformat": 4,
 "nbformat_minor": 5
}
