{
 "cells": [
  {
   "cell_type": "raw",
   "id": "ce39dfe7-8810-4c56-9619-b1e3106ee079",
   "metadata": {},
   "source": [
    "---\n",
    "title: Compiling Python to C using setuptools and Cython\n",
    "date: 2022-07-04\n",
    "categories: [python]\n",
    "aliases: [/tils/compiling-python-to-c-using-setuptools-and-cython]\n",
    "---"
   ]
  },
  {
   "cell_type": "markdown",
   "id": "df2ad8b1",
   "metadata": {},
   "source": [
    "[`plum`](https://github.com/wesselb/plum/blob/master/setup.py)[^plum] compiles an ordinary Python file into an extension module (in C) using [Cython](https://cython.org/) and [`setuptools`](https://setuptools.pypa.io/)' Cython integration. It's the first time I've encountered this, so here's a high-level description of how it works.\n",
    "\n",
    "[^plum]: `plum` is a really cool library that brings [Julia-style typed multiple dispatch](https://docs.julialang.org/en/v1/manual/methods/) to Python!"
   ]
  },
  {
   "cell_type": "markdown",
   "id": "869952af",
   "metadata": {},
   "source": [
    "In `setup.py`, pass the `ext_modules` arg to `setup`, wrapping an `Extension` that points to the module you want to compile:"
   ]
  },
  {
   "cell_type": "markdown",
   "id": "afd9c557",
   "metadata": {},
   "source": [
    "```python hl_lines='9'\n",
    "from setuptools import setup, Extension\n",
    "\n",
    "setup(\n",
    "    # ...\n",
    "    ext_modules=[Extension(\"plum.function\", [\"plum/function.py\"])],\n",
    ")\n",
    "```"
   ]
  },
  {
   "cell_type": "markdown",
   "id": "6437fc25",
   "metadata": {},
   "source": [
    "`setuptools` has built-in [Cython integration](https://setuptools.pypa.io/en/latest/userguide/ext_modules.html#distributing-extensions-compiled-with-cython). If it finds that Cython is installed, it'll use it to build extensions with `.py` and `.pyx` sources. Including Cython as a build dependency in `pyproject.toml` ensures that it's installed and ready to go:"
   ]
  },
  {
   "cell_type": "markdown",
   "id": "eee1faff",
   "metadata": {},
   "source": [
    "```toml\n",
    "[build-system]\n",
    "requires = [\n",
    "    # ...\n",
    "    \"cython\",\n",
    "]\n",
    "```"
   ]
  },
  {
   "cell_type": "markdown",
   "id": "f067db8a",
   "metadata": {},
   "source": [
    "## What's a Python extension module?"
   ]
  },
  {
   "cell_type": "markdown",
   "id": "7e154975",
   "metadata": {},
   "source": [
    "An extension module is a program written in C (or C++) that uses Python's C API to hook into Python's run-time system. Interop works both ways: you can call Python objects from C and vice versa. A common reason for using extensions is improved speed. See [the official docs on extension modules](https://docs.python.org/3/extending/extending.html) for more."
   ]
  },
  {
   "cell_type": "markdown",
   "id": "7e54374e",
   "metadata": {},
   "source": [
    "## What's Cython?"
   ]
  },
  {
   "cell_type": "markdown",
   "id": "a48d4fdd",
   "metadata": {},
   "source": [
    "Cython is a compiler for compiling programs written in Python and the Cython programming language into C extension modules. I'd recommend the reading through [the rather friendly documentation as well](https://cython.readthedocs.io/en/latest/src/quickstart/overview.html)."
   ]
  }
 ],
 "metadata": {
  "kernelspec": {
   "display_name": "Python 3 (ipykernel)",
   "language": "python",
   "name": "python3"
  }
 },
 "nbformat": 4,
 "nbformat_minor": 5
}
