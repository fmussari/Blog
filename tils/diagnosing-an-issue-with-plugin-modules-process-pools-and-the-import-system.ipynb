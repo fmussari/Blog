{
 "cells": [
  {
   "cell_type": "raw",
   "id": "6a18efec-0565-4d40-a60c-0627b3292b2f",
   "metadata": {},
   "source": [
    "---\n",
    "title: Diagnosing an issue with plugin modules, process pools, and the import system\n",
    "date: 2022-07-10\n",
    "categories: [fastai,python]\n",
    "aliases: [/tils/diagnosing-an-issue-with-plugin-modules-process-pools-and-the-import-system]\n",
    "---"
   ]
  },
  {
   "cell_type": "markdown",
   "id": "a53573d5",
   "metadata": {},
   "source": [
    "This is a walkthrough of the rather surprising mechanics underlying a failing test that brings together plugin modules (that register themselves on import), process pools, and Python's import system."
   ]
  },
  {
   "cell_type": "markdown",
   "id": "eddb01f7",
   "metadata": {},
   "source": [
    "## What went wrong"
   ]
  },
  {
   "cell_type": "markdown",
   "id": "6f0470e4",
   "metadata": {},
   "source": [
    "It starts with a failed test:"
   ]
  },
  {
   "cell_type": "markdown",
   "id": "3b6e3d7c",
   "metadata": {},
   "source": [
    "```python\n",
    "pat = r\"\\[\\d, \\d+.\\d+, \\d+.\\d+, \\d+.\\d+, '\\d\\d:\\d\\d'\\]\"\n",
    "test_stdout(lambda: learn.fit(1), pat, regex=True)\n",
    "```"
   ]
  },
  {
   "cell_type": "markdown",
   "id": "2d763aaf",
   "metadata": {},
   "source": [
    "The idea is to test that calling `learn.fit(1)` writes text to `stdout` ([standard output](https://en.wikipedia.org/wiki/Standard_streams#Standard_output_(stdout))) that matches the regex pattern `pat`. For those less familiar, this form of testing is common in projects that use `nbdev`."
   ]
  },
  {
   "cell_type": "markdown",
   "id": "6e2e840f",
   "metadata": {},
   "source": [
    "Here's what actually happens:\n",
    "\n",
    "1. The `nbprocess_test` command creates a `ProcessPoolExecutor` with some number of workers and tasks (each notebook being a separate task).\n",
    "2. Worker 1 processes one task, say task 1, which creates an IPython `InteractiveShell`, then runs `import fastai.callbacks.progress` which adds `ProgressCallback` to the the variable `fastcore.basics.defaults`.\n",
    "3. Worker 1 processes another task, say task 3, which creates a fresh `InteractiveShell`, calls `learner.fit`, and tests `stdout`. Since `ProgressCallback` has been registered *in this process* by task 1, a progress bar is also printed to `stdout`, breaking the test."
   ]
  },
  {
   "cell_type": "markdown",
   "id": "67a7c0c6",
   "metadata": {},
   "source": [
    "Let's break down the underlying mechanics. There are three behaviours that come together to cause this sequence of events:\n",
    "\n",
    "1. **`ProcessPoolExecutor`s reuse processes.** It seems obvious in hindsight since that's how pools usually work, but I had never realised it until now. In the example above, worker 1 executes task 1 and task 3 in the same process.\n",
    "2. **`fastai` callbacks register themselves on import**. In this case, `fastai.callbacks.progress` adds `ProgressCallback` to `defaults.callbacks`.\n",
    "3. **Changes to imported modules persist across IPython `InteractiveShell`s**. `nbprocess_test` runs each test in parallel using `execnb`, which implements a sub-class of `InteractiveShell`."
   ]
  },
  {
   "cell_type": "markdown",
   "id": "08d59d16",
   "metadata": {},
   "source": [
    "Next, we'll verify these behaviours with tiny experiments. I highly recommend using tiny experiments to understand complex systems."
   ]
  },
  {
   "cell_type": "markdown",
   "id": "6873f75d",
   "metadata": {},
   "source": [
    "## `ProcessPoolExecutor`s reuse processes"
   ]
  },
  {
   "cell_type": "markdown",
   "id": "d582fe22",
   "metadata": {},
   "source": [
    "Perhaps we should know this simply from the name, but I didn't, so we'll figure it out with a tiny experiment. Start by creating a pool with 2 `max_workers`:"
   ]
  },
  {
   "cell_type": "code",
   "execution_count": null,
   "id": "de16d633",
   "metadata": {},
   "outputs": [],
   "source": [
    "from concurrent.futures import ProcessPoolExecutor\n",
    "\n",
    "pool = ProcessPoolExecutor(max_workers=2)"
   ]
  },
  {
   "cell_type": "markdown",
   "id": "3f5e945d",
   "metadata": {},
   "source": [
    "There aren't any processes in the pool yet:"
   ]
  },
  {
   "cell_type": "code",
   "execution_count": null,
   "id": "5aefa6f4",
   "metadata": {},
   "outputs": [
    {
     "data": {
      "text/plain": [
       "{}"
      ]
     },
     "execution_count": null,
     "metadata": {},
     "output_type": "execute_result"
    }
   ],
   "source": [
    "pool._processes"
   ]
  },
  {
   "cell_type": "markdown",
   "id": "da0445ad",
   "metadata": {},
   "source": [
    "Submit a task: the function `os.getpid`, which will return the process ID of the worker that runs it. Since there are no processes in the pool, `submit` will start a new worker process, and have it execute the task. `ProcessPoolExecutor.submit` returns a `Future` object, and `Future.result` returns the task's return value:"
   ]
  },
  {
   "cell_type": "code",
   "execution_count": null,
   "id": "83042bc6",
   "metadata": {},
   "outputs": [
    {
     "data": {
      "text/plain": [
       "45907"
      ]
     },
     "execution_count": null,
     "metadata": {},
     "output_type": "execute_result"
    }
   ],
   "source": [
    "import os\n",
    "\n",
    "future = pool.submit(os.getpid)\n",
    "future.result()"
   ]
  },
  {
   "cell_type": "markdown",
   "id": "bc9b5478",
   "metadata": {},
   "source": [
    "No matter how many times you manually rerun the above cell, it will aways be executed on the same process. Notice that the process is now also available in the pool:"
   ]
  },
  {
   "cell_type": "code",
   "execution_count": null,
   "id": "2289c195",
   "metadata": {},
   "outputs": [
    {
     "data": {
      "text/plain": [
       "{45907: <SpawnProcess name='SpawnProcess-1' pid=45907 parent=45899 started>}"
      ]
     },
     "execution_count": null,
     "metadata": {},
     "output_type": "execute_result"
    }
   ],
   "source": [
    "pool._processes"
   ]
  },
  {
   "cell_type": "markdown",
   "id": "20a48ee1",
   "metadata": {},
   "source": [
    "If we submit another task:"
   ]
  },
  {
   "cell_type": "code",
   "execution_count": null,
   "id": "baeed3e4",
   "metadata": {},
   "outputs": [
    {
     "data": {
      "text/plain": [
       "45907"
      ]
     },
     "execution_count": null,
     "metadata": {},
     "output_type": "execute_result"
    }
   ],
   "source": [
    "future = pool.submit(os.getpid)\n",
    "future.result()"
   ]
  },
  {
   "cell_type": "markdown",
   "id": "2306c326",
   "metadata": {},
   "source": [
    "...it's still executed on the same process.\n",
    "\n",
    "Let's try executing two processes at the same time:"
   ]
  },
  {
   "cell_type": "code",
   "execution_count": null,
   "id": "c75ca42a",
   "metadata": {},
   "outputs": [
    {
     "data": {
      "text/plain": [
       "[45907, 45907]"
      ]
     },
     "execution_count": null,
     "metadata": {},
     "output_type": "execute_result"
    }
   ],
   "source": [
    "futures = [pool.submit(os.getpid) for _ in range(2)]\n",
    "[o.result() for o in futures]"
   ]
  },
  {
   "cell_type": "markdown",
   "id": "d284c938",
   "metadata": {},
   "source": [
    "Weird. They're both executed on the same process..."
   ]
  },
  {
   "cell_type": "code",
   "execution_count": null,
   "id": "3cdb6137",
   "metadata": {},
   "outputs": [
    {
     "data": {
      "text/plain": [
       "{45907: <SpawnProcess name='SpawnProcess-1' pid=45907 parent=45899 started>,\n",
       " 45908: <SpawnProcess name='SpawnProcess-2' pid=45908 parent=45899 started>}"
      ]
     },
     "execution_count": null,
     "metadata": {},
     "output_type": "execute_result"
    }
   ],
   "source": [
    "pool._processes"
   ]
  },
  {
   "cell_type": "markdown",
   "id": "d005e9ff",
   "metadata": {},
   "source": [
    "It looks like another process was started! I haven't confirmed this, but I suspect that when we submitted two futures, the pool determined that it needed more workers, so it started another. However, the first worker's task ended before the second worker started up, so the first worker processed both."
   ]
  },
  {
   "cell_type": "markdown",
   "id": "16beb70c",
   "metadata": {},
   "source": [
    "Since we instantiated the pool with 2 `max_workers`, these two processes will execute all tasks, no matter how many we submit:"
   ]
  },
  {
   "cell_type": "code",
   "execution_count": null,
   "id": "d9729925",
   "metadata": {},
   "outputs": [
    {
     "data": {
      "text/plain": [
       "[45907, 45907, 45907, 45907, 45907, 45907, 45907, 45907, 45907, 45907]"
      ]
     },
     "execution_count": null,
     "metadata": {},
     "output_type": "execute_result"
    }
   ],
   "source": [
    "futures = [pool.submit(os.getpid) for _ in range(10)]\n",
    "[o.result() for o in futures]"
   ]
  },
  {
   "cell_type": "markdown",
   "id": "c167f2db",
   "metadata": {},
   "source": [
    "Shutdown the pool to free up any resources:"
   ]
  },
  {
   "cell_type": "code",
   "execution_count": null,
   "id": "a58381d9",
   "metadata": {},
   "outputs": [],
   "source": [
    "pool.shutdown()"
   ]
  },
  {
   "cell_type": "markdown",
   "id": "b56891bb",
   "metadata": {},
   "source": [
    "## fastai callbacks register themselves on import"
   ]
  },
  {
   "cell_type": "markdown",
   "id": "16c200bd",
   "metadata": {},
   "source": [
    "This one is easy to demonstrate. `defaults` has no `callbacks` attribute to start with:"
   ]
  },
  {
   "cell_type": "code",
   "execution_count": null,
   "id": "41907eba",
   "metadata": {},
   "outputs": [
    {
     "data": {
      "text/plain": [
       "namespace(cpus=4)"
      ]
     },
     "execution_count": null,
     "metadata": {},
     "output_type": "execute_result"
    }
   ],
   "source": [
    "from fastcore.basics import defaults\n",
    "\n",
    "defaults"
   ]
  },
  {
   "cell_type": "markdown",
   "id": "d736f827",
   "metadata": {},
   "source": [
    "`defaults.callbacks` is populated after importing `ProgressCallback`:"
   ]
  },
  {
   "cell_type": "code",
   "execution_count": null,
   "id": "cd08aee9",
   "metadata": {},
   "outputs": [
    {
     "data": {
      "text/plain": [
       "namespace(cpus=4,\n",
       "          benchmark=True,\n",
       "          use_cuda=None,\n",
       "          activation=torch.nn.modules.activation.ReLU,\n",
       "          callbacks=[fastai.callback.core.TrainEvalCallback,\n",
       "                     fastai.learner.Recorder,\n",
       "                     fastai.learner.CastToTensor,\n",
       "                     fastai.callback.progress.ProgressCallback],\n",
       "          lr=0.001)"
      ]
     },
     "execution_count": null,
     "metadata": {},
     "output_type": "execute_result"
    }
   ],
   "source": [
    "from fastai.callback.progress import ProgressCallback\n",
    "\n",
    "defaults"
   ]
  },
  {
   "cell_type": "markdown",
   "id": "b6ebb419",
   "metadata": {},
   "source": [
    "## Changes to imported modules persist across IPython `InteractiveShell`s"
   ]
  },
  {
   "cell_type": "markdown",
   "id": "7f67de66",
   "metadata": {},
   "source": [
    "Why is any of the above a problem? Didn't we say that `nbprocess_test` creates a separate shell for each notebook? Yes it does, but it turns out that changes to imported modules persist across shells."
   ]
  },
  {
   "cell_type": "code",
   "execution_count": null,
   "id": "d698070b",
   "metadata": {},
   "outputs": [],
   "source": [
    "from execnb.shell import CaptureShell"
   ]
  },
  {
   "cell_type": "markdown",
   "id": "324e97ea",
   "metadata": {},
   "source": [
    "First make sure that `CaptureShell` doesn't have a `foo` attribute - this will make sense in a second:"
   ]
  },
  {
   "cell_type": "code",
   "execution_count": null,
   "id": "8fb74dfa",
   "metadata": {},
   "outputs": [],
   "source": [
    "assert not hasattr(CaptureShell, 'foo')"
   ]
  },
  {
   "cell_type": "markdown",
   "id": "e42f34a6",
   "metadata": {},
   "source": [
    "Now add the `foo` attribute:"
   ]
  },
  {
   "cell_type": "code",
   "execution_count": null,
   "id": "3067eb49",
   "metadata": {},
   "outputs": [],
   "source": [
    "CaptureShell.foo = 'bar'"
   ]
  },
  {
   "cell_type": "markdown",
   "id": "7ff01985",
   "metadata": {},
   "source": [
    "We can see `foo` inside a `CaptureShell`:"
   ]
  },
  {
   "cell_type": "code",
   "execution_count": null,
   "id": "c9bd3709",
   "metadata": {},
   "outputs": [
    {
     "data": {
      "text/plain": [
       "'bar'"
      ]
     },
     "execution_count": null,
     "metadata": {},
     "output_type": "execute_result"
    }
   ],
   "source": [
    "shell = CaptureShell()\n",
    "shell.run('from execnb.shell import CaptureShell; CaptureShell.foo')\n",
    "shell.result"
   ]
  },
  {
   "cell_type": "markdown",
   "id": "73a7e714",
   "metadata": {},
   "source": [
    "This happens because when we first imported from the `execnb.shell` module it was cached in `sys.modules`:"
   ]
  },
  {
   "cell_type": "code",
   "execution_count": null,
   "id": "9f2ec767",
   "metadata": {},
   "outputs": [
    {
     "data": {
      "text/plain": [
       "<module 'execnb.shell' from '/Users/seem/code/execnb/execnb/shell.py'>"
      ]
     },
     "execution_count": null,
     "metadata": {},
     "output_type": "execute_result"
    }
   ],
   "source": [
    "import sys\n",
    "\n",
    "sys.modules['execnb.shell']"
   ]
  },
  {
   "cell_type": "markdown",
   "id": "c75c9676",
   "metadata": {},
   "source": [
    "In fact, `sys.modules['execnb.shell'].CaptureShell` is another name for `CaptureShell`:"
   ]
  },
  {
   "cell_type": "code",
   "execution_count": null,
   "id": "f4299eeb",
   "metadata": {},
   "outputs": [
    {
     "data": {
      "text/plain": [
       "True"
      ]
     },
     "execution_count": null,
     "metadata": {},
     "output_type": "execute_result"
    }
   ],
   "source": [
    "sys.modules['execnb.shell'].CaptureShell is CaptureShell"
   ]
  },
  {
   "cell_type": "markdown",
   "id": "56ecddd3",
   "metadata": {},
   "source": [
    "Python caches imports to speed up consecutive imports from the same modules. `InteractiveShell` (and its sub-classes) have the same `sys.modules` which causes this behaviour:"
   ]
  },
  {
   "cell_type": "code",
   "execution_count": null,
   "id": "5c203ac0",
   "metadata": {},
   "outputs": [
    {
     "data": {
      "text/plain": [
       "'bar'"
      ]
     },
     "execution_count": null,
     "metadata": {},
     "output_type": "execute_result"
    }
   ],
   "source": [
    "shell = CaptureShell()\n",
    "shell.run(\"import sys; sys.modules['execnb.shell'].CaptureShell.foo\")\n",
    "shell.result"
   ]
  },
  {
   "cell_type": "markdown",
   "id": "8be43664",
   "metadata": {},
   "source": [
    "`exec` with empty `globals` and `locals` uses the same `sys.modules` too so it doesn't avoid the issue:"
   ]
  },
  {
   "cell_type": "code",
   "execution_count": null,
   "id": "0297cddf",
   "metadata": {},
   "outputs": [
    {
     "name": "stdout",
     "output_type": "stream",
     "text": [
      "True\n"
     ]
    }
   ],
   "source": [
    "exec(\"import sys; print('execnb.shell' in sys.modules)\", {}, {})"
   ]
  },
  {
   "cell_type": "code",
   "execution_count": null,
   "id": "3c8af7e9",
   "metadata": {},
   "outputs": [
    {
     "name": "stdout",
     "output_type": "stream",
     "text": [
      "bar\n"
     ]
    }
   ],
   "source": [
    "exec(\"from execnb.shell import CaptureShell; print(CaptureShell.foo)\", {}, {})"
   ]
  },
  {
   "cell_type": "markdown",
   "id": "5e335aa8",
   "metadata": {},
   "source": [
    "---"
   ]
  },
  {
   "cell_type": "markdown",
   "id": "eb2c18f3",
   "metadata": {},
   "source": [
    "In the end, we agreed that the test itself was broken, because it made assumptions about its environment without ensuring that they were true. Tests like this may fail - regardless of the above behaviour - if we import any module that registers a callback. For example, this fails too:"
   ]
  },
  {
   "cell_type": "markdown",
   "id": "293bcbf8",
   "metadata": {},
   "source": [
    "```python\n",
    "from fastai.callback.progress import *\n",
    "from nbprocess.test import test_nb\n",
    "\n",
    "test_nb('nbs/nb_with_failing_test.ipynb')\n",
    "```"
   ]
  },
  {
   "cell_type": "markdown",
   "id": "de311b90",
   "metadata": {},
   "source": [
    "The fix is to explicitly run `learner.fit` with the precise list of callbacks required."
   ]
  }
 ],
 "metadata": {
  "kernelspec": {
   "display_name": "Python 3 (ipykernel)",
   "language": "python",
   "name": "python3"
  }
 },
 "nbformat": 4,
 "nbformat_minor": 5
}
