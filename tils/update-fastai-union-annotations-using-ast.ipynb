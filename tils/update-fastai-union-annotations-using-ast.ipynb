{
 "cells": [
  {
   "cell_type": "raw",
   "id": "04034dd0-243f-4da6-84d9-d95e8edb0352",
   "metadata": {},
   "source": [
    "---\n",
    "title: Update fastai union annotations using ast\n",
    "date: 2022-07-08\n",
    "categories: [notebooks,nbdev,fastai]\n",
    "aliases: [/tils/update-fastai-union-annotations-using-ast]\n",
    "---"
   ]
  },
  {
   "cell_type": "markdown",
   "id": "d6d6bf20-2ff3-41e8-97de-a574b883f797",
   "metadata": {},
   "source": [
    "::: {.callout-note appearance=\"simple\"}\n",
    "This notebook doesn't render correctly until I figure out how to tell Quarto to echo code cells as is without parsing directives.\n",
    ":::"
   ]
  },
  {
   "cell_type": "markdown",
   "id": "8ce0aaea",
   "metadata": {},
   "source": [
    "This notebook defines and exports a lightweight command line tool that updates union annotations in notebooks from the fastai tuple style (`x:(int,str)`) to the Python 3.10 union operator (`x:int|str`), using the [`ast`](https://docs.python.org/3/library/ast.html) standard library, and developed with [`nbdev`](https://github.com/fastai/nbdev)."
   ]
  },
  {
   "cell_type": "code",
   "execution_count": null,
   "id": "99684396",
   "metadata": {},
   "outputs": [],
   "source": [
    "#|default_exp __main__"
   ]
  },
  {
   "cell_type": "code",
   "execution_count": null,
   "id": "85b7db48",
   "metadata": {},
   "outputs": [],
   "source": [
    "#|export\n",
    "import ast\n",
    "import sys\n",
    "from execnb.nbio import read_nb, write_nb"
   ]
  },
  {
   "cell_type": "code",
   "execution_count": null,
   "id": "283023cf",
   "metadata": {},
   "outputs": [],
   "source": [
    "from fastcore.test import test_eq"
   ]
  },
  {
   "cell_type": "code",
   "execution_count": null,
   "id": "2e20197a",
   "metadata": {},
   "outputs": [],
   "source": [
    "#|export\n",
    "def tuple2bitor(annot):\n",
    "    \"Convert fastai tuple style union annotation to py310 union operator\"\n",
    "    bitor = annot.dims[0]\n",
    "    for right in annot.dims[1:]: bitor = ast.BinOp(left=bitor, right=right, op=ast.BitOr())\n",
    "    return bitor\n",
    "\n",
    "def tuple2bitorstr(annot): return ast.unparse(tuple2bitor(annot)).replace(' ', '')"
   ]
  },
  {
   "cell_type": "code",
   "execution_count": null,
   "id": "850c90a2",
   "metadata": {},
   "outputs": [],
   "source": [
    "a = ast.Tuple([ast.Name(id=o) for o in ('int','str','float')])\n",
    "test_eq(ast.unparse(a),'(int, str, float)')\n",
    "test_eq(tuple2bitorstr(a),'int|str|float')"
   ]
  },
  {
   "cell_type": "code",
   "execution_count": null,
   "id": "938e7d41",
   "metadata": {},
   "outputs": [],
   "source": [
    "#|export\n",
    "def split_parts(source, node):\n",
    "    \"Split `source` into parts before, containing, and after `node`\"\n",
    "    lines = source.split('\\n')\n",
    "    assert node.lineno == node.end_lineno, 'Multi-line annotations not supported'\n",
    "    l = node.lineno-1\n",
    "    line = lines[l]\n",
    "    s,e = node.col_offset, node.end_col_offset\n",
    "    return '\\n'.join(lines[:l]+[line[:s]]), line[s:e], '\\n'.join([line[e:]]+lines[l+1:])"
   ]
  },
  {
   "cell_type": "code",
   "execution_count": null,
   "id": "f75a3180",
   "metadata": {},
   "outputs": [],
   "source": [
    "s = '''\n",
    "def f(\n",
    "    x: (int, str, float),\n",
    "    y=5\n",
    "): pass'''\n",
    "n = ast.parse(s)\n",
    "a = n.body[0].args.args[0].annotation\n",
    "ps = split_parts(s, a)\n",
    "test_eq(ps, ('\\ndef f(\\n    x: ', '(int, str, float)', ',\\n    y=5\\n): pass'))"
   ]
  },
  {
   "cell_type": "code",
   "execution_count": null,
   "id": "97788e4e",
   "metadata": {},
   "outputs": [],
   "source": [
    "#|export\n",
    "def replace_node(source, node, repl):\n",
    "    \"Replace `node` in `source` with `repl`\"\n",
    "    parts = split_parts(source, node)\n",
    "    return parts[0] + repl + parts[2]"
   ]
  },
  {
   "cell_type": "code",
   "execution_count": null,
   "id": "e8eef721",
   "metadata": {},
   "outputs": [],
   "source": [
    "test_eq(replace_node(s, a, tuple2bitorstr(a)), '\\ndef f(\\n    x: int|str|float,\\n    y=5\\n): pass')"
   ]
  },
  {
   "cell_type": "code",
   "execution_count": null,
   "id": "373ffcf2",
   "metadata": {},
   "outputs": [],
   "source": [
    "#|export\n",
    "def fix_tuple_annots(source):\n",
    "    \"Convert all fastai tuple style union annotations in `source` to py310 union operator\"\n",
    "    while True:\n",
    "        n = ast.parse(source)\n",
    "        try: a = next(o.annotation for o in ast.walk(n) if isinstance(getattr(o,'annotation',None),ast.Tuple))\n",
    "        except StopIteration: return source\n",
    "        source = replace_node(source, a, tuple2bitorstr(a))"
   ]
  },
  {
   "cell_type": "code",
   "execution_count": null,
   "id": "a708c5a6",
   "metadata": {},
   "outputs": [],
   "source": [
    "s = '''\n",
    "@patch\n",
    "def crop_pad(x:TensorBBox|TensorPoint|Image.Image,\n",
    "    sz:(int, tuple), # Crop/pad size of input, duplicated if one value is specified\n",
    "    tl:tuple=None, # Optional top-left coordinate of the crop/pad, if `None` center crop\n",
    "    orig_sz:tuple=None, # Original size of input\n",
    "    pad_mode:PadMode=PadMode.Zeros, # Fastai padding mode\n",
    "    resize_mode=BILINEAR, # Pillow `Image` resize mode\n",
    "    resize_to:tuple=None # Optional post crop/pad resize of input\n",
    "):\n",
    "    if isinstance(sz,int): sz = (sz,sz)\n",
    "    orig_sz = fastuple(_get_sz(x) if orig_sz is None else orig_sz)\n",
    "    sz,tl = fastuple(sz),fastuple(((_get_sz(x)-sz)//2) if tl is None else tl)\n",
    "    return x._do_crop_pad(sz, tl, orig_sz=orig_sz, pad_mode=pad_mode, resize_mode=resize_mode, resize_to=resize_to)\n",
    "'''\n",
    "\n",
    "test_eq(fix_tuple_annots(s), '''\n",
    "@patch\n",
    "def crop_pad(x:TensorBBox|TensorPoint|Image.Image,\n",
    "    sz:int|tuple, # Crop/pad size of input, duplicated if one value is specified\n",
    "    tl:tuple=None, # Optional top-left coordinate of the crop/pad, if `None` center crop\n",
    "    orig_sz:tuple=None, # Original size of input\n",
    "    pad_mode:PadMode=PadMode.Zeros, # Fastai padding mode\n",
    "    resize_mode=BILINEAR, # Pillow `Image` resize mode\n",
    "    resize_to:tuple=None # Optional post crop/pad resize of input\n",
    "):\n",
    "    if isinstance(sz,int): sz = (sz,sz)\n",
    "    orig_sz = fastuple(_get_sz(x) if orig_sz is None else orig_sz)\n",
    "    sz,tl = fastuple(sz),fastuple(((_get_sz(x)-sz)//2) if tl is None else tl)\n",
    "    return x._do_crop_pad(sz, tl, orig_sz=orig_sz, pad_mode=pad_mode, resize_mode=resize_mode, resize_to=resize_to)\n",
    "''')"
   ]
  },
  {
   "cell_type": "code",
   "execution_count": null,
   "id": "4d7c66ca",
   "metadata": {},
   "outputs": [],
   "source": [
    "#|export\n",
    "def fix_nb_tuple_annots(nb):\n",
    "    \"Convert all fastai tuple style union annotations in `nb` to py310 union operator\"\n",
    "    for cell in nb.cells:\n",
    "        try: cell.source = fix_tuple_annots(cell.source)\n",
    "        except SyntaxError: pass"
   ]
  },
  {
   "cell_type": "code",
   "execution_count": null,
   "id": "a230fa3b",
   "metadata": {},
   "outputs": [],
   "source": [
    "#|export\n",
    "from fastcore.script import *\n",
    "from fastcore.utils import *\n",
    "\n",
    "@call_parse\n",
    "def main(fname:str): # A notebook name or glob to convert\n",
    "    \"Convert all fastai tuple style union annotations in `nb_path` to py310 union operators\"\n",
    "    for f in globtastic(fname, file_glob='*.ipynb', skip_folder_re='^[_.]'):\n",
    "        nb = read_nb(f)\n",
    "        fix_nb_tuple_annots(nb)\n",
    "        write_nb(nb, f)"
   ]
  }
 ],
 "metadata": {
  "kernelspec": {
   "display_name": "Python 3 (ipykernel)",
   "language": "python",
   "name": "python3"
  }
 },
 "nbformat": 4,
 "nbformat_minor": 5
}
