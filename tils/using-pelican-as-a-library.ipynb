{
 "cells": [
  {
   "cell_type": "raw",
   "id": "9e38294a",
   "metadata": {},
   "source": [
    "---\n",
    "title: Using Pelican as a library\n",
    "date: 2022-06-20\n",
    "categories: [pelican, python]\n",
    "---"
   ]
  },
  {
   "cell_type": "markdown",
   "id": "af428ccb",
   "metadata": {},
   "source": [
    "In this post you'll learn how to use [Pelican](https://docs.getpelican.com/) (a Python static site generator) programmatically rather than through its command-line interface. This will give you a better understanding of how Pelican works internally and enable you to customise it for your needs."
   ]
  },
  {
   "cell_type": "markdown",
   "id": "77cc8054",
   "metadata": {},
   "source": [
    "## How Pelican works"
   ]
  },
  {
   "cell_type": "markdown",
   "id": "e463ec3e",
   "metadata": {},
   "source": [
    "Pelican's highest-level of abstraction is its command-line interface, which you would typically use as follows:\n",
    "\n",
    "```console\n",
    "$ pelican content output -s pelicanconf.py\n",
    "```\n",
    "\n",
    "This would read all articles and pages in the `content` directory, convert them to HTML, render web pages with the relevant Jinja templates, and write the resulting static website to the `output` directory."
   ]
  },
  {
   "cell_type": "markdown",
   "id": "0ad9760b",
   "metadata": {},
   "source": [
    "The rough flow to achieve this is as follows:\n",
    "\n",
    "\n",
    "- Instantiate a list of `Generator`s (which house all of the relevent `Reader`s and a jinja `Environment`) and a `Writer`.\n",
    "- For each `Generator`:\n",
    "    - Call the `generate_context` method, which reads the input files, converts them to HTML, and adds the outputs to a `context` dictionary.\n",
    "    - Call the `generate_output` method, passing the `Writer` and `context`. This gets the relevant jinja `Template` from the `Environment`, renders it with the provided `context`, and writes the result to the final output directory."
   ]
  },
  {
   "cell_type": "markdown",
   "id": "02e9ea62",
   "metadata": {},
   "source": [
    "As you can see, `Generator`s are responsible for glueing together the lower-level components: `Reader`, jinja `Template`, and `Writer`. In order to understand each of these components, we'll reimplement the core logic of a `Generator` from scratch!"
   ]
  },
  {
   "cell_type": "markdown",
   "id": "ad8ea234",
   "metadata": {},
   "source": [
    "## Setup"
   ]
  },
  {
   "cell_type": "markdown",
   "id": "b429cd9a",
   "metadata": {},
   "source": [
    "Start by setting `root` to the directory of your Pelican website. If you don't yet have a website, follow [Pelican's informative documentation](https://docs.getpelican.com/en/latest/quickstart.html) to get started:"
   ]
  },
  {
   "cell_type": "code",
   "execution_count": null,
   "id": "c87a3a7b",
   "metadata": {},
   "outputs": [],
   "source": [
    "from pathlib import Path\n",
    "\n",
    "root = Path('..')"
   ]
  },
  {
   "cell_type": "markdown",
   "id": "1a0004f4",
   "metadata": {},
   "source": [
    "Now we can load our `pelicanconf.py` settings file. Pelican provides a function for this which handles details like applying defaults:"
   ]
  },
  {
   "cell_type": "code",
   "execution_count": null,
   "id": "614ef1d8",
   "metadata": {},
   "outputs": [],
   "source": [
    "from pelican.settings import read_settings\n",
    "\n",
    "settings = read_settings(root/'pelicanconf.py')"
   ]
  },
  {
   "cell_type": "markdown",
   "id": "dbe49070",
   "metadata": {},
   "source": [
    "Let's create a quick blog post for testing. I prefer to write more technical blog posts in Jupyter notebooks but we'll use markdown here since Pelican supports it natively."
   ]
  },
  {
   "cell_type": "code",
   "execution_count": null,
   "id": "5925cbed",
   "metadata": {},
   "outputs": [],
   "source": [
    "post_filepath = root/'content/2022-06-20-hello-pelican.md'"
   ]
  },
  {
   "cell_type": "code",
   "execution_count": null,
   "id": "205d5022",
   "metadata": {},
   "outputs": [
    {
     "name": "stdout",
     "output_type": "stream",
     "text": [
      "Writing ../content/2022-06-20-hello-pelican.md\n"
     ]
    }
   ],
   "source": [
    "%%writefile {post_filepath}\n",
    "Title: Hello Pelican\n",
    "Slug: hello-pelican\n",
    "Author: Wasim Lorgat\n",
    "Date: 2022-06-20\n",
    "Tags: python, pelican\n",
    "Category: python\n",
    "\n",
    "## Welcome\n",
    "\n",
    "Hello and welcome to our markdown blog post!"
   ]
  },
  {
   "cell_type": "markdown",
   "id": "74eb56ac",
   "metadata": {},
   "source": [
    "## `Reader`"
   ]
  },
  {
   "cell_type": "markdown",
   "id": "7536315e",
   "metadata": {},
   "source": [
    "We'll start by instantiating a `MarkdownReader` to read our blog post. We're using a `MarkdownReader` because we wrote the post in markdown, but Pelican also provides `HTMLReader` and `RstReader` if you prefer those formats."
   ]
  },
  {
   "cell_type": "code",
   "execution_count": null,
   "id": "def5e55a",
   "metadata": {},
   "outputs": [],
   "source": [
    "from pelican.readers import MarkdownReader\n",
    "\n",
    "reader = MarkdownReader(settings)"
   ]
  },
  {
   "cell_type": "markdown",
   "id": "574492b9",
   "metadata": {},
   "source": [
    "The most important part of a `Reader` is its `read` method which accepts a file path and returns the contents of the file in HTML format along with metadata about the file:"
   ]
  },
  {
   "cell_type": "code",
   "execution_count": null,
   "id": "750dd968",
   "metadata": {},
   "outputs": [],
   "source": [
    "content, metadata = reader.read(post_filepath)"
   ]
  },
  {
   "cell_type": "markdown",
   "id": "8bfc6980",
   "metadata": {},
   "source": [
    "... `content` is a string containing the blog post content converted to HTML. Since this was written in a notebook, we can use an `IPython` function to render it directly!"
   ]
  },
  {
   "cell_type": "code",
   "execution_count": null,
   "id": "772f7dbf",
   "metadata": {},
   "outputs": [
    {
     "data": {
      "text/html": [
       "<h2 id=\"welcome\"><a class=\"toclink\" href=\"#welcome\">Welcome</a></h2>\n",
       "<p>Hello and welcome to our markdown blog post!</p>"
      ],
      "text/plain": [
       "<IPython.core.display.HTML object>"
      ]
     },
     "execution_count": null,
     "metadata": {},
     "output_type": "execute_result"
    }
   ],
   "source": [
    "from IPython.core.display import HTML\n",
    "HTML(content)"
   ]
  },
  {
   "cell_type": "markdown",
   "id": "74cb76bc",
   "metadata": {},
   "source": [
    "... and `metadata` is a dictionary that describes the file:"
   ]
  },
  {
   "cell_type": "code",
   "execution_count": null,
   "id": "ea6bbbf5",
   "metadata": {},
   "outputs": [
    {
     "data": {
      "text/plain": [
       "{'title': 'Hello Pelican',\n",
       " 'slug': 'hello-pelican',\n",
       " 'author': <Author 'Wasim Lorgat'>,\n",
       " 'date': SafeDatetime(2022, 6, 20, 0, 0),\n",
       " 'tags': [<Tag 'python'>, <Tag 'pelican'>],\n",
       " 'category': <Category 'python'>}"
      ]
     },
     "execution_count": null,
     "metadata": {},
     "output_type": "execute_result"
    }
   ],
   "source": [
    "metadata"
   ]
  },
  {
   "cell_type": "markdown",
   "id": "66a58497",
   "metadata": {},
   "source": [
    "## `Writer`"
   ]
  },
  {
   "cell_type": "markdown",
   "id": "feae13da",
   "metadata": {},
   "source": [
    "Now that we have the contents of the post in HTML format, we'll render it into a static web page using a `Writer`. However, we first need to create an appropriate jinja `Template`. Jinja provides the `Environment` class for reusing functionality across templates so we'll use that here."
   ]
  },
  {
   "cell_type": "markdown",
   "id": "a1a6f5eb",
   "metadata": {},
   "source": [
    "Pelican searches for templates in the following order:\n",
    "\n",
    "1. Individual template overrides, via `settings['THEME_TEMPLATES_OVERRIDES']`.\n",
    "2. The configured theme, via `settings['THEME']`.\n",
    "3. The default *simple* theme packaged with Pelican.\n",
    "\n",
    "We can implement this search order using a `FileSystemLoader`, housed in an `Environment` for convenience:"
   ]
  },
  {
   "cell_type": "code",
   "execution_count": null,
   "id": "90dcc6f9",
   "metadata": {},
   "outputs": [],
   "source": [
    "import pelican\n",
    "from jinja2 import Environment, FileSystemLoader\n",
    "from pathlib import Path\n",
    "\n",
    "template_paths = [*(Path(o) for o in settings['THEME_TEMPLATES_OVERRIDES']),\n",
    "                  Path(settings['THEME'])/'templates',\n",
    "                  Path(pelican.__file__).parent/'themes/simple/templates']\n",
    "env = Environment(loader=FileSystemLoader(template_paths),\n",
    "                  **settings['JINJA_ENVIRONMENT'])"
   ]
  },
  {
   "cell_type": "markdown",
   "id": "4c83300d",
   "metadata": {},
   "source": [
    "Now we can get the *article* template:"
   ]
  },
  {
   "cell_type": "code",
   "execution_count": null,
   "id": "26c5a7f8",
   "metadata": {},
   "outputs": [],
   "source": [
    "template = env.get_template('article.html')"
   ]
  },
  {
   "cell_type": "markdown",
   "id": "5368efbf",
   "metadata": {},
   "source": [
    "The last step of preparation is to create the `context` dictionary that's passed through to the `Template` to render the article:"
   ]
  },
  {
   "cell_type": "code",
   "execution_count": null,
   "id": "c51c40b9",
   "metadata": {},
   "outputs": [],
   "source": [
    "from pelican.contents import Article\n",
    "\n",
    "context = settings.copy()\n",
    "article = Article(content, metadata, settings, post_filepath, context)\n",
    "article.readtime = {'minutes': 1}  # NOTE: this is a workaround to support the readtime plugin that I use\n",
    "context['article'] = article"
   ]
  },
  {
   "cell_type": "markdown",
   "id": "561e0d5e",
   "metadata": {},
   "source": [
    "And now we can write the final result!"
   ]
  },
  {
   "cell_type": "code",
   "execution_count": null,
   "id": "665869e9",
   "metadata": {},
   "outputs": [],
   "source": [
    "from pelican.writers import Writer\n",
    "\n",
    "output_dir = root/'test'\n",
    "writer = Writer(output_dir, settings)\n",
    "writer.write_file(Path(post_filepath.name).with_suffix('.html'), template, context)"
   ]
  },
  {
   "cell_type": "markdown",
   "id": "916b86df",
   "metadata": {},
   "source": [
    "Let's read it back in and see what it looks like. We'll extract only the body using a simple regex - I'd usually recommend considering [Beautiful Soup](https://beautiful-soup-4.readthedocs.io/en/latest/) for parsing HTML but regex works fine for our case:"
   ]
  },
  {
   "cell_type": "code",
   "execution_count": null,
   "id": "e0cadc5b",
   "metadata": {},
   "outputs": [
    {
     "data": {
      "text/html": [
       "<nav>\n",
       "      <a class=\"site-title\" href=\"/\">\n",
       "        Wasim Lorgat\n",
       "      </a>\n",
       "      <a href=\"/posts/\">Posts</a>\n",
       "      <a href=\"/tils/\">TILs</a>\n",
       "    </nav>\n",
       "\n",
       "\n",
       "<h1>\n",
       "  <a href=\"/posts/hello-pelican/\">\n",
       "    Hello Pelican\n",
       "  </a>\n",
       "</h1>\n",
       "\n",
       "<p class=\"article-meta\">\n",
       "  June 20, 2022 • 1 min read\n",
       "</p>\n",
       "\n",
       "<h2 id=\"welcome\"><a class=\"toclink\" href=\"#welcome\">Welcome</a></h2>\n",
       "<p>Hello and welcome to our markdown blog post!</p>"
      ],
      "text/plain": [
       "<IPython.core.display.HTML object>"
      ]
     },
     "execution_count": null,
     "metadata": {},
     "output_type": "execute_result"
    }
   ],
   "source": [
    "import re\n",
    "\n",
    "with open(output_dir/'2022-06-20-hello-pelican.html') as f: html = f.read()\n",
    "body = re.findall('<body>(.*?)</body>', html, re.DOTALL)[0].strip()\n",
    "HTML(body)"
   ]
  },
  {
   "cell_type": "markdown",
   "id": "b93b2c42",
   "metadata": {},
   "source": [
    "The provided templates have added a navigation bar at the top, a title below that, as well as the publication date and estimated reading time. And that's it, we've successfully rendered a blog post web page using Pelican's low-level components!"
   ]
  },
  {
   "cell_type": "markdown",
   "id": "50a3bc1a",
   "metadata": {},
   "source": [
    "Before we end off, clean up the files we made along the way:"
   ]
  },
  {
   "cell_type": "code",
   "execution_count": null,
   "id": "718011e4",
   "metadata": {},
   "outputs": [],
   "source": [
    "import shutil\n",
    "shutil.rmtree(output_dir, ignore_errors=True)\n",
    "post_filepath.unlink(missing_ok=True)"
   ]
  }
 ],
 "metadata": {
  "kernelspec": {
   "display_name": "Python 3 (ipykernel)",
   "language": "python",
   "name": "python3"
  }
 },
 "nbformat": 4,
 "nbformat_minor": 5
}
