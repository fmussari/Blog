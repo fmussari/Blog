{
 "cells": [
  {
   "cell_type": "raw",
   "id": "606b1ffb",
   "metadata": {},
   "source": [
    "---\n",
    "title: \"How I built Meepo: A visual search engine for fashion\"\n",
    "description: \"A step-by-step account of how I built Meepo -- a visual search engine for fashion -- and how you can create your own search engine too.\"\n",
    "date: 2023-02-13\n",
    "categories: [maker log]\n",
    "draft: true\n",
    "image: images/meepo.png\n",
    "---"
   ]
  },
  {
   "cell_type": "markdown",
   "id": "90c17a9d",
   "metadata": {},
   "source": [
    "<!-- ![](images/meepo.png){width=600 fig-align=center .preview-image} -->"
   ]
  },
  {
   "cell_type": "markdown",
   "id": "65026b92",
   "metadata": {},
   "source": [
    "I built a visual search engine for a leading fashion store in the Southern-most tip of Africa.\n",
    "Thanks to the power and availability of foundational neural networks, open-source software, and cloud infrastructure -- with a sprinkle of good planning -- it took me 1 week and costs only $30 per month of hosting fees.\n",
    "\n",
    "Honestly, it blows my mind that this is possible.\n",
    "Decades of hard work by many bright minds have empowered us to create and distribute incredible AI-powered products from almost anywhere in the world.\n",
    "\n",
    "I couldn't be more excited about what this means for our future.\n",
    "What problems will we be able to solve?\n",
    "This is why I decided to share how I built Meepo.\n",
    "I hope to help others create even more powerful products that solve problems unique to their circumstances.\n",
    "\n",
    "Here's the entire stack powering Meepo. Don't be overwhelmed. In this post, you'll learn about each and every one of these, and how you can use them to create your own search engine:\n",
    "\n",
    "- [CLIP](https://github.com/openai/CLIP): the neural network underlying Meepo's visual search engine\n",
    "- [Faiss](https://github.com/facebookresearch/faiss): a library that lets us efficiently search over CLIP outputs\n",
    "- [Conda](https://docs.conda.io/en/latest/): a Python package management system\n",
    "- [Jupyter Notebook](https://jupyter.org/): an interactive programming environment\n",
    "- [nbdev](http://nbdev.fast.ai/): a platform for developing software using Jupyter Notebooks\n",
    "- [Tailwind CSS](https://tailwindcss.com/): a simpler CSS framework\n",
    "- [DaisyUI](https://daisyui.com/): a component library built on Tailwind CSS\n",
    "- [SQLite](https://www.sqlite.org/): a light but powerful database engine\n",
    "- [Django](https://www.djangoproject.com/): a battle-tested Python web framework\n",
    "- [Gunicorn](): a Python HTTP server that lets us serve our Django application\n",
    "- [Nginx](https://www.nginx.com/): a powerful and customizeable web server\n",
    "- [Cron](https://cron.com/): a job scheduler built into Unix operating system\n",
    "- [Linode](https://www.linode.com/): a cloud hosting provider."
   ]
  },
  {
   "cell_type": "markdown",
   "id": "095d83be",
   "metadata": {},
   "source": [
    "## CLIP: The secret ingredient"
   ]
  },
  {
   "cell_type": "markdown",
   "id": "ae166dff",
   "metadata": {},
   "source": [
    "::: {.callout-caution}\n",
    "### This section is under construction\n",
    "\n",
    "Check back in a few days.\n",
    ":::"
   ]
  },
  {
   "cell_type": "code",
   "execution_count": null,
   "id": "200e7b1e",
   "metadata": {},
   "outputs": [],
   "source": [
    "!pip install -q torch datasets transformers"
   ]
  },
  {
   "cell_type": "code",
   "execution_count": null,
   "id": "883e3b9e",
   "metadata": {},
   "outputs": [
    {
     "name": "stderr",
     "output_type": "stream",
     "text": [
      "Using custom data configuration pcuenq--oxford-pets-43375e644eed3d52\n",
      "Found cached dataset parquet (/Users/seem/.cache/huggingface/datasets/pcuenq___parquet/pcuenq--oxford-pets-43375e644eed3d52/0.0.0/2a3b91fbd88a2c90d1dbbb32b460cf621d31bd5b05b934492fdef7d8d6f236ec)\n"
     ]
    },
    {
     "data": {
      "application/vnd.jupyter.widget-view+json": {
       "model_id": "2d1fb87aa406493794d5b9362ddaac69",
       "version_major": 2,
       "version_minor": 0
      },
      "text/plain": [
       "  0%|          | 0/1 [00:00<?, ?it/s]"
      ]
     },
     "metadata": {},
     "output_type": "display_data"
    }
   ],
   "source": [
    "#| output: false\n",
    "from datasets import load_dataset\n",
    "\n",
    "dataset = load_dataset(\"pcuenq/oxford-pets\")"
   ]
  },
  {
   "cell_type": "code",
   "execution_count": null,
   "id": "d0c58f8a",
   "metadata": {},
   "outputs": [],
   "source": [
    "row = dataset['train'][15]"
   ]
  },
  {
   "cell_type": "code",
   "execution_count": null,
   "id": "8d1cb521",
   "metadata": {},
   "outputs": [],
   "source": [
    "image = row['image']"
   ]
  },
  {
   "cell_type": "code",
   "execution_count": null,
   "id": "367d7ac2",
   "metadata": {},
   "outputs": [],
   "source": [
    "import numpy as np"
   ]
  },
  {
   "cell_type": "code",
   "execution_count": null,
   "id": "38ab21ec",
   "metadata": {},
   "outputs": [
    {
     "data": {
      "image/png": "[encoded data removed]",
      "text/plain": [
       "<PIL.Image.Image image mode=RGB size=116x78>"
      ]
     },
     "execution_count": null,
     "metadata": {},
     "output_type": "execute_result"
    }
   ],
   "source": [
    "image.resize(np.array(image.size)//3)"
   ]
  },
  {
   "cell_type": "code",
   "execution_count": null,
   "id": "f765371b",
   "metadata": {},
   "outputs": [],
   "source": [
    "from transformers import CLIPProcessor, CLIPModel\n",
    "\n",
    "model = CLIPModel.from_pretrained(\"openai/clip-vit-base-patch32\")\n",
    "processor = CLIPProcessor.from_pretrained(\"openai/clip-vit-base-patch32\")"
   ]
  },
  {
   "cell_type": "code",
   "execution_count": null,
   "id": "d5f0e47c",
   "metadata": {},
   "outputs": [],
   "source": [
    "inputs = processor(text=[\"a photo of a cat\", \"a photo of a dog\"], images=image, return_tensors=\"pt\", padding=True)\n",
    "outputs = model(**inputs)\n",
    "logits_per_image = outputs.logits_per_image  # this is the image-text similarity score\n",
    "probs = logits_per_image.softmax(dim=1)  # we can take the softmax to get the label probabilities"
   ]
  },
  {
   "cell_type": "code",
   "execution_count": null,
   "id": "2a4d7c2f",
   "metadata": {},
   "outputs": [
    {
     "data": {
      "text/plain": [
       "tensor([[0.9940, 0.0060]], grad_fn=<SoftmaxBackward0>)"
      ]
     },
     "execution_count": null,
     "metadata": {},
     "output_type": "execute_result"
    }
   ],
   "source": [
    "probs"
   ]
  },
  {
   "cell_type": "code",
   "execution_count": null,
   "id": "767aef59",
   "metadata": {},
   "outputs": [
    {
     "data": {
      "text/plain": [
       "torch.Size([1, 512])"
      ]
     },
     "execution_count": null,
     "metadata": {},
     "output_type": "execute_result"
    }
   ],
   "source": [
    "inputs = processor(images=image, return_tensors=\"pt\", padding=True)\n",
    "outputs = model.get_image_features(**inputs)\n",
    "outputs.shape"
   ]
  },
  {
   "cell_type": "code",
   "execution_count": null,
   "id": "9921e36f",
   "metadata": {},
   "outputs": [
    {
     "ename": "ValueError",
     "evalue": "You have to specify input_ids",
     "output_type": "error",
     "traceback": [
      "\u001b[0;31m---------------------------------------------------------------------------\u001b[0m",
      "\u001b[0;31mValueError\u001b[0m                                Traceback (most recent call last)",
      "Cell \u001b[0;32mIn[135], line 3\u001b[0m\n\u001b[1;32m      1\u001b[0m inputs \u001b[38;5;241m=\u001b[39m processor(images\u001b[38;5;241m=\u001b[39mimage, return_tensors\u001b[38;5;241m=\u001b[39m\u001b[38;5;124m\"\u001b[39m\u001b[38;5;124mpt\u001b[39m\u001b[38;5;124m\"\u001b[39m, padding\u001b[38;5;241m=\u001b[39m\u001b[38;5;28;01mTrue\u001b[39;00m)\n\u001b[1;32m      2\u001b[0m \u001b[38;5;66;03m# inputs['input_ids'] = \u001b[39;00m\n\u001b[0;32m----> 3\u001b[0m outputs \u001b[38;5;241m=\u001b[39m \u001b[43mmodel\u001b[49m\u001b[43m(\u001b[49m\u001b[38;5;241;43m*\u001b[39;49m\u001b[38;5;241;43m*\u001b[39;49m\u001b[43minputs\u001b[49m\u001b[43m)\u001b[49m\n\u001b[1;32m      4\u001b[0m logits_per_image \u001b[38;5;241m=\u001b[39m outputs\u001b[38;5;241m.\u001b[39mlogits_per_image  \u001b[38;5;66;03m# this is the image-text similarity score\u001b[39;00m\n\u001b[1;32m      5\u001b[0m probs \u001b[38;5;241m=\u001b[39m logits_per_image\u001b[38;5;241m.\u001b[39msoftmax(dim\u001b[38;5;241m=\u001b[39m\u001b[38;5;241m1\u001b[39m)  \u001b[38;5;66;03m# we can take the softmax to get the label probabilities\u001b[39;00m\n",
      "File \u001b[0;32m~/.pyenv/versions/3.9.16/lib/python3.9/site-packages/torch/nn/modules/module.py:1194\u001b[0m, in \u001b[0;36mModule._call_impl\u001b[0;34m(self, *input, **kwargs)\u001b[0m\n\u001b[1;32m   1190\u001b[0m \u001b[38;5;66;03m# If we don't have any hooks, we want to skip the rest of the logic in\u001b[39;00m\n\u001b[1;32m   1191\u001b[0m \u001b[38;5;66;03m# this function, and just call forward.\u001b[39;00m\n\u001b[1;32m   1192\u001b[0m \u001b[38;5;28;01mif\u001b[39;00m \u001b[38;5;129;01mnot\u001b[39;00m (\u001b[38;5;28mself\u001b[39m\u001b[38;5;241m.\u001b[39m_backward_hooks \u001b[38;5;129;01mor\u001b[39;00m \u001b[38;5;28mself\u001b[39m\u001b[38;5;241m.\u001b[39m_forward_hooks \u001b[38;5;129;01mor\u001b[39;00m \u001b[38;5;28mself\u001b[39m\u001b[38;5;241m.\u001b[39m_forward_pre_hooks \u001b[38;5;129;01mor\u001b[39;00m _global_backward_hooks\n\u001b[1;32m   1193\u001b[0m         \u001b[38;5;129;01mor\u001b[39;00m _global_forward_hooks \u001b[38;5;129;01mor\u001b[39;00m _global_forward_pre_hooks):\n\u001b[0;32m-> 1194\u001b[0m     \u001b[38;5;28;01mreturn\u001b[39;00m \u001b[43mforward_call\u001b[49m\u001b[43m(\u001b[49m\u001b[38;5;241;43m*\u001b[39;49m\u001b[38;5;28;43minput\u001b[39;49m\u001b[43m,\u001b[49m\u001b[43m \u001b[49m\u001b[38;5;241;43m*\u001b[39;49m\u001b[38;5;241;43m*\u001b[39;49m\u001b[43mkwargs\u001b[49m\u001b[43m)\u001b[49m\n\u001b[1;32m   1195\u001b[0m \u001b[38;5;66;03m# Do not call functions when jit is used\u001b[39;00m\n\u001b[1;32m   1196\u001b[0m full_backward_hooks, non_full_backward_hooks \u001b[38;5;241m=\u001b[39m [], []\n",
      "File \u001b[0;32m~/.pyenv/versions/3.9.16/lib/python3.9/site-packages/transformers/models/clip/modeling_clip.py:1125\u001b[0m, in \u001b[0;36mCLIPModel.forward\u001b[0;34m(self, input_ids, pixel_values, attention_mask, position_ids, return_loss, output_attentions, output_hidden_states, return_dict)\u001b[0m\n\u001b[1;32m   1116\u001b[0m return_dict \u001b[38;5;241m=\u001b[39m return_dict \u001b[38;5;28;01mif\u001b[39;00m return_dict \u001b[38;5;129;01mis\u001b[39;00m \u001b[38;5;129;01mnot\u001b[39;00m \u001b[38;5;28;01mNone\u001b[39;00m \u001b[38;5;28;01melse\u001b[39;00m \u001b[38;5;28mself\u001b[39m\u001b[38;5;241m.\u001b[39mconfig\u001b[38;5;241m.\u001b[39muse_return_dict\n\u001b[1;32m   1118\u001b[0m vision_outputs \u001b[38;5;241m=\u001b[39m \u001b[38;5;28mself\u001b[39m\u001b[38;5;241m.\u001b[39mvision_model(\n\u001b[1;32m   1119\u001b[0m     pixel_values\u001b[38;5;241m=\u001b[39mpixel_values,\n\u001b[1;32m   1120\u001b[0m     output_attentions\u001b[38;5;241m=\u001b[39moutput_attentions,\n\u001b[1;32m   1121\u001b[0m     output_hidden_states\u001b[38;5;241m=\u001b[39moutput_hidden_states,\n\u001b[1;32m   1122\u001b[0m     return_dict\u001b[38;5;241m=\u001b[39mreturn_dict,\n\u001b[1;32m   1123\u001b[0m )\n\u001b[0;32m-> 1125\u001b[0m text_outputs \u001b[38;5;241m=\u001b[39m \u001b[38;5;28;43mself\u001b[39;49m\u001b[38;5;241;43m.\u001b[39;49m\u001b[43mtext_model\u001b[49m\u001b[43m(\u001b[49m\n\u001b[1;32m   1126\u001b[0m \u001b[43m    \u001b[49m\u001b[43minput_ids\u001b[49m\u001b[38;5;241;43m=\u001b[39;49m\u001b[43minput_ids\u001b[49m\u001b[43m,\u001b[49m\n\u001b[1;32m   1127\u001b[0m \u001b[43m    \u001b[49m\u001b[43mattention_mask\u001b[49m\u001b[38;5;241;43m=\u001b[39;49m\u001b[43mattention_mask\u001b[49m\u001b[43m,\u001b[49m\n\u001b[1;32m   1128\u001b[0m \u001b[43m    \u001b[49m\u001b[43mposition_ids\u001b[49m\u001b[38;5;241;43m=\u001b[39;49m\u001b[43mposition_ids\u001b[49m\u001b[43m,\u001b[49m\n\u001b[1;32m   1129\u001b[0m \u001b[43m    \u001b[49m\u001b[43moutput_attentions\u001b[49m\u001b[38;5;241;43m=\u001b[39;49m\u001b[43moutput_attentions\u001b[49m\u001b[43m,\u001b[49m\n\u001b[1;32m   1130\u001b[0m \u001b[43m    \u001b[49m\u001b[43moutput_hidden_states\u001b[49m\u001b[38;5;241;43m=\u001b[39;49m\u001b[43moutput_hidden_states\u001b[49m\u001b[43m,\u001b[49m\n\u001b[1;32m   1131\u001b[0m \u001b[43m    \u001b[49m\u001b[43mreturn_dict\u001b[49m\u001b[38;5;241;43m=\u001b[39;49m\u001b[43mreturn_dict\u001b[49m\u001b[43m,\u001b[49m\n\u001b[1;32m   1132\u001b[0m \u001b[43m\u001b[49m\u001b[43m)\u001b[49m\n\u001b[1;32m   1134\u001b[0m image_embeds \u001b[38;5;241m=\u001b[39m vision_outputs[\u001b[38;5;241m1\u001b[39m]\n\u001b[1;32m   1135\u001b[0m image_embeds \u001b[38;5;241m=\u001b[39m \u001b[38;5;28mself\u001b[39m\u001b[38;5;241m.\u001b[39mvisual_projection(image_embeds)\n",
      "File \u001b[0;32m~/.pyenv/versions/3.9.16/lib/python3.9/site-packages/torch/nn/modules/module.py:1194\u001b[0m, in \u001b[0;36mModule._call_impl\u001b[0;34m(self, *input, **kwargs)\u001b[0m\n\u001b[1;32m   1190\u001b[0m \u001b[38;5;66;03m# If we don't have any hooks, we want to skip the rest of the logic in\u001b[39;00m\n\u001b[1;32m   1191\u001b[0m \u001b[38;5;66;03m# this function, and just call forward.\u001b[39;00m\n\u001b[1;32m   1192\u001b[0m \u001b[38;5;28;01mif\u001b[39;00m \u001b[38;5;129;01mnot\u001b[39;00m (\u001b[38;5;28mself\u001b[39m\u001b[38;5;241m.\u001b[39m_backward_hooks \u001b[38;5;129;01mor\u001b[39;00m \u001b[38;5;28mself\u001b[39m\u001b[38;5;241m.\u001b[39m_forward_hooks \u001b[38;5;129;01mor\u001b[39;00m \u001b[38;5;28mself\u001b[39m\u001b[38;5;241m.\u001b[39m_forward_pre_hooks \u001b[38;5;129;01mor\u001b[39;00m _global_backward_hooks\n\u001b[1;32m   1193\u001b[0m         \u001b[38;5;129;01mor\u001b[39;00m _global_forward_hooks \u001b[38;5;129;01mor\u001b[39;00m _global_forward_pre_hooks):\n\u001b[0;32m-> 1194\u001b[0m     \u001b[38;5;28;01mreturn\u001b[39;00m \u001b[43mforward_call\u001b[49m\u001b[43m(\u001b[49m\u001b[38;5;241;43m*\u001b[39;49m\u001b[38;5;28;43minput\u001b[39;49m\u001b[43m,\u001b[49m\u001b[43m \u001b[49m\u001b[38;5;241;43m*\u001b[39;49m\u001b[38;5;241;43m*\u001b[39;49m\u001b[43mkwargs\u001b[49m\u001b[43m)\u001b[49m\n\u001b[1;32m   1195\u001b[0m \u001b[38;5;66;03m# Do not call functions when jit is used\u001b[39;00m\n\u001b[1;32m   1196\u001b[0m full_backward_hooks, non_full_backward_hooks \u001b[38;5;241m=\u001b[39m [], []\n",
      "File \u001b[0;32m~/.pyenv/versions/3.9.16/lib/python3.9/site-packages/transformers/models/clip/modeling_clip.py:707\u001b[0m, in \u001b[0;36mCLIPTextTransformer.forward\u001b[0;34m(self, input_ids, attention_mask, position_ids, output_attentions, output_hidden_states, return_dict)\u001b[0m\n\u001b[1;32m    704\u001b[0m return_dict \u001b[38;5;241m=\u001b[39m return_dict \u001b[38;5;28;01mif\u001b[39;00m return_dict \u001b[38;5;129;01mis\u001b[39;00m \u001b[38;5;129;01mnot\u001b[39;00m \u001b[38;5;28;01mNone\u001b[39;00m \u001b[38;5;28;01melse\u001b[39;00m \u001b[38;5;28mself\u001b[39m\u001b[38;5;241m.\u001b[39mconfig\u001b[38;5;241m.\u001b[39muse_return_dict\n\u001b[1;32m    706\u001b[0m \u001b[38;5;28;01mif\u001b[39;00m input_ids \u001b[38;5;129;01mis\u001b[39;00m \u001b[38;5;28;01mNone\u001b[39;00m:\n\u001b[0;32m--> 707\u001b[0m     \u001b[38;5;28;01mraise\u001b[39;00m \u001b[38;5;167;01mValueError\u001b[39;00m(\u001b[38;5;124m\"\u001b[39m\u001b[38;5;124mYou have to specify input_ids\u001b[39m\u001b[38;5;124m\"\u001b[39m)\n\u001b[1;32m    709\u001b[0m input_shape \u001b[38;5;241m=\u001b[39m input_ids\u001b[38;5;241m.\u001b[39msize()\n\u001b[1;32m    710\u001b[0m input_ids \u001b[38;5;241m=\u001b[39m input_ids\u001b[38;5;241m.\u001b[39mview(\u001b[38;5;241m-\u001b[39m\u001b[38;5;241m1\u001b[39m, input_shape[\u001b[38;5;241m-\u001b[39m\u001b[38;5;241m1\u001b[39m])\n",
      "\u001b[0;31mValueError\u001b[0m: You have to specify input_ids"
     ]
    }
   ],
   "source": [
    "inputs = processor(images=image, return_tensors=\"pt\", padding=True)\n",
    "outputs = model(**inputs)\n",
    "logits_per_image = outputs.logits_per_image  # this is the image-text similarity score\n",
    "probs = logits_per_image.softmax(dim=1)  # we can take the softmax to get the label probabilities"
   ]
  },
  {
   "cell_type": "markdown",
   "id": "8109219e",
   "metadata": {},
   "source": [
    "## The idea\n",
    "\n",
    "Leading up to Meepo, I'd seen the creator of [Lexica](https://lexica.art/) share the [details of their stack](https://twitter.com/sharifshameem/status/1567962701237997568?s=20) on Twitter. I'd also recently learned the detail behind how CLIP worked from the [most recent iteration of the incredible fastai course](https://www.fast.ai/posts/part2-2022-preview.html). Shortly after that, I saw [the launch](https://twitter.com/karinanguyen_/status/1587217615885406213) of [InterAlia](https://interalia.vcflab.org/). I had a brief look at the tech, and it looked simple enough to be able to very quickly prototype.\n",
    "\n",
    "I wanted to build this as quickly as possible. And I wanted to do so in a series of incremental steps, each resulting in an end-to-end useable product."
   ]
  },
  {
   "cell_type": "markdown",
   "id": "0f536084",
   "metadata": {},
   "source": [
    "## Notebook prototype\n",
    "\n",
    "Later that day, I shared the first demo with friends:\n",
    "\n",
    "{{< video videos/meepo-demo-1.mp4 >}}\n",
    "\n",
    "In general, I always try to focus on the most uncertain part of the project at each step. At this stage I wasn't sure if the search would actually work for the types of queries a shopper would have, like \"wooden bowl\" or \"small purple lamp\". So the first step was to isolate and answer that specific question, as quickly as possible.\n",
    "\n",
    "I manually scraped some images from the target website: literally opened the website and scraped the image URLs with some JavaScript in the browser console. I only scraped one page to start with, which was about 70 images. Then I CLIP encoded the images and did simple distance ranking on those vectors.\n",
    "\n",
    "This took about 1 hour in total. And it worked quite well!"
   ]
  },
  {
   "cell_type": "markdown",
   "id": "941e8588",
   "metadata": {},
   "source": [
    "## Web prototype\n",
    "\n",
    "The next step was to do the same thing in a web app. The simplest approach I could think of was a server-side rendered app that served static pages with a search interface implemented as a standard HTML form.\n",
    "\n",
    "As for design, I knew that I was going to use an existing component library so that I could have a decent UI without much customization. I really like the way DaisyUI's components look, and it's free, so I went with that. I love how it turned out!\n",
    "\n",
    "I started out by drawing a simple design with pen and paper. Even though this is a pretty basic design, I found it very helpful to draw it out. It gave me a clear goal to work towards. This is also when I decided on the name \"Meepo\", which my wife suggested. It's the name of a [DotA character](https://dota2.fandom.com/wiki/Meepo) that she liked, and it felt like the right vibe.\n",
    "\n",
    "![](images/meepo-sketch.png){width=600 fig-align=center}\n",
    "\n",
    "I used Django as the backend framework since I have a few years of experience with it. Again, since the goal was to ship fast, I tried to go with what I knew: simple, boring, but powerful! I used SQLite too to keep things simple, since it’s almost entirely a read-only application; only the scraper writes to the database.\n",
    "\n",
    "This step took 4 hours, after which I shared another demo with friends.\n",
    "\n",
    "{{< video videos/meepo-demo-2.mp4 >}}"
   ]
  },
  {
   "cell_type": "markdown",
   "id": "87120439",
   "metadata": {},
   "source": [
    "## Deployment\n",
    "\n",
    "Now that I had a minimal working Django app, I wanted to deploy it so that I could share a link for people to play around with, instead of just videos. I found it very helpful to get feedback throughout the process, and there's nothing better than getting feedback on an actual interactive version of the product. I also wanted to get practice shipping changes to a live app. I definitely think it's the right idea to deploy early in the development process, then ship often.\n",
    "\n",
    "I used the battle-tested stack of nginx and gunicorn in front of Django (image created by [Serdar Ilarslan](https://medium.com/@serdarilarslan), [source](https://medium.com/@serdarilarslan/what-is-gunicorn-5e674fff131b)):\n",
    "\n",
    "![](images/meepo-stack.webp)\n",
    "\n",
    "This step took 7 hours. I think it could've been a lot faster, but I got sidetracked trying to use a platform-as-a-service (PaaS) option instead of working directly on a Linux virtual private server (VPS) – which I'm much more experienced with. I'm not sure if I'll revisit PaaS in the future, because the VPS has been working really well for a few months now. I personally love the transparency and being able to directly interact with it if anything goes wrong, rather than struggling to find the right logs in some web interface. I knew that [Pieter Levels](https://twitter.com/levelsio) does similarly, and serves significantly more traffic than I expected to. My good friend [Ashton Hudson](https://twitter.com/ashtonshudson) took the same approach with [Serval](https://www.servaltracker.com/), which also serves tons of traffic with a really massive time series database (more info in [this thread](https://twitter.com/ashtonshudson/status/1609621491481460737?s=20)).\n",
    "\n",
    "I bought a DNS using Namecheap. I tried to find the cheapest domain for \"meepo\", and was lucky to score [meepo.shop](https://meepo.shop) at $2!\n",
    "\n",
    "I did some basic Linux setup following [this Linode guide](https://www.linode.com/docs/products/compute/compute-instances/guides/set-up-and-secure/). Things like updating packages, configuring the timezone, configuring a custom hostname, and most importantly creating a limited user and tightening SSH options.\n",
    "\n",
    "I found the docs really difficult to follow, but it turned out to be quite simple to get Linode to manage the DNS instead of Namecheap. All I had to do was go to the domain management page, then the Domain tab, and add Linode's nameservers under the Nameservers section. The domains were ns1.linode.com through ns5.linode.com. I think it might've taken some time to reflect, and once it did, I could create a domain in the Linode console, link it to my Node, and have it automatically fill what I needed!\n",
    "\n",
    "As part of this step, I also setup nginx and gunicorn on the Linux VPS. I followed [this Real Python guide](https://realpython.com/django-nginx-gunicorn).\n",
    "\n",
    "I also highly recommend setting up Longview, which has a free option! It's really cool to be able to check some basic stats from the console and even from my phone.\n",
    "\n",
    "I also setup [Sentry](https://sentry.io/) which sends me an email whenever there's an error in either the web server or the scraper, with a neat stacktrace and local variables. It's very easy with Django, just a few lines in your `settings.py` file and you're good to go.\n",
    "\n",
    "Once it was setup, I used [ddosify](https://github.com/ddosify/ddosify) to load test it – great tool! Given that I'd barely done any optimization, I wanted to make sure that it could at least handle a reasonable amount of traffic. So I hit the search endpoint with a bunch of random queries. It just about handled 60 requests over 10 seconds, which I was relatively sure I wouldn't reach for an extended period of time 😅 and worst case I could upgrade the VPS if needed.\n",
    "\n",
    "![](images/meepo-ddosify.png)\n",
    "\n",
    "Now I could tell people to goto [meepo.shop](https://meepo.shop) and see what I was working on. Yay! 🎉"
   ]
  },
  {
   "cell_type": "markdown",
   "id": "0912f9bb",
   "metadata": {},
   "source": [
    "## Scraper\n",
    "\n",
    "The next step was to come up with a scraping strategy and pipeline design. This was probably the trickiest, but fortunately this sort of work has been a large part of my role as an ML Engineer 💪🏽.\n",
    "\n",
    "The big question here is how do we maintain a list of available products that is accurate for at least 24 hours, with minimal load to the upstream service?"
   ]
  },
  {
   "cell_type": "markdown",
   "id": "a2223d94",
   "metadata": {},
   "source": [
    "**A very important detour:** if you're scraping, you are most likely not the intended audience of a website, so try very hard not to negatively impact the service or the user experience of their intended audience! Here are some ways you can do so:\n",
    "\n",
    "- Check how big the viewership of the website is. I would personally be hesitant to scrape a small website and would probably prefer to email the owner directly.\n",
    "- Identify yourself (website URL), with contact information, via the user agent header – don't try to fake being a human! A simple pattern you can use is `your.website.com/x.y (your@email.com)` where `x.y` is a version number of the scraper.\n",
    "- Be considerate about their resource usage, especially given that you aren't their intended audience.\n",
    "- Do the bulk of your requests during off-peak times depending on the local timezone of their audience.\n",
    "- Sleep between requests as much as you possibly can. Add small random amounts as well to reduce the likelihood of overlapping with other scheduled scrapers/bots, thus reducing peak load.\n",
    "- Use compression when scraping plain text or JSON to minimise their outgoing traffic! It doesn't work nearly as well for images so it's probably best to not compress them to avoid extra CPU usage on their servers."
   ]
  },
  {
   "cell_type": "markdown",
   "id": "c6d8095b",
   "metadata": {},
   "source": [
    "The rough idea was to:\n",
    "\n",
    "1. First scrape the entire \"catalogue\". Walk through each department's \"New in\" section\n",
    "2. Then for each page in the section, create a list of the currently available products.\n",
    "3. Download the images for those products that we haven't seen before.\n",
    "4. Calculate their CLIP embeddings\n",
    "5. And finally rebuild the index.\n",
    "\n",
    "It's faster for me to recreate the index instead of updating the existing one due to the small size of my dataset. For larger datasets this would be a more complex process.\n",
    "\n",
    "Unfortunately, I couldn't scrape new pages only. I needed to check the entire catalogue to determine which products were unavailable so I can remove them from the index.\n",
    "\n",
    "I first tried jumping in head first and coding this up, but got totally stuck. Even with that plan I wasn't quite sure how to break it down into smaller components that I could easily build.\n",
    "\n",
    "A perfect opportunity to whip out a whiteboard, or in my case [Excalidraw](https://excalidraw.com). Here's what I came up with:\n",
    "\n",
    "![](images/meepo-pipeline.png){.column-screen}\n",
    "\n",
    "I often find it helpful to think about data pipelines in terms of statements that I want to be true about the data.\n",
    "\n",
    "For example, after step 1, we should have a .json.gz file for each scraped page, in a folder structure indicating the run timestamp, department, and page number. It's also useful to specify a more precise schema at this point too. What would the file structure look like? What tables will you create in the database, and what are their constraints and foreign key relationships?\n",
    "\n",
    "It's also often a good idea to store raw external data before we do any processing so that when we change the logic we don't need to rescrape anything. For example, if I wanted to add prices to products I could do so without rescraping anything. This is also one good reason for splitting a pipeline into smaller components. Another is that it can be easier to comprehend, although splitting it too fine can be counterproductive.\n",
    "\n",
    "I used Chrome dev tools to figure out the API paths and what the requests should look like. Although I built the scraper to work with all departments, I started out by scraping the smallest one: Home and Living. I figured that would be a neat way to test the end-to-end process.\n",
    "\n",
    "I then configured cron to run this daily just after midnight. By the way, a neat tip to get cron to log its output (including errors) to the system log is to add the following to the end of your job definition:\n",
    "\n",
    "```sh\n",
    "2>&1 | logger -t meepo_pipeline\n",
    "```\n",
    "\n",
    "The `2>&1` redirects the standard error stream to the standard out stream so that error messages are logged too. The combined result is then piped to the `logger` application which writes to the system log, with a tag specified by the `-t` flag.\n",
    "\n",
    "Building out the scraper and getting the cron job working smoothly took about 20 hours! After that, all that was left was to let it scrape all departments, watch and fix any bugs that popped up (unhandled cases and so on), and prepare for launch!"
   ]
  },
  {
   "cell_type": "markdown",
   "id": "27a22a43",
   "metadata": {},
   "source": [
    "## Launch\n",
    "\n",
    "My launch plan was simple. Post to Twitter, LinkedIn, Reddit (/r/southafrica), and HackerNews:\n",
    "\n",
    "<blockquote class=\"twitter-tweet\"><p lang=\"en\" dir=\"ltr\">Introducing Meepo – a smarter search engine for <a href=\"https://twitter.com/superbalist?ref_src=twsrc%5Etfw\">@Superbalist</a> (leading South African fashion and homeware store 🇿🇦)<br><br>I have no affiliation with Superbalist. I just thought this was something that needed to exist! Let me explain...<a href=\"https://t.co/5HNOfM6k1T\">https://t.co/5HNOfM6k1T</a></p>&mdash; Wasim Lorgat (@wasimlorgat) <a href=\"https://twitter.com/wasimlorgat/status/1596038255236915200?ref_src=twsrc%5Etfw\">November 25, 2022</a></blockquote> <script async src=\"https://platform.twitter.com/widgets.js\" charset=\"utf-8\"></script>\n",
    "\n",
    "There are a couple of tiny details that really add to the polish of a launch: having a nice social preview card (and other metadata) and a favicon.\n",
    "\n",
    "For the preview card, I used [Unsplash](https://unsplash.com/) to find a beautiful stock photo, and then [Canva](https://www.canva.com/) to edit it. Be sure to get the dimensions right for the website(s) you're targeting. For me it was primarily Twitter and Reddit. I cropped the image, played around with colour settings, added text, and added some pretty fonts and effects. I was inspired by Lexica's card which I think is really beautiful. I added a headline and short description over the image.\n",
    "\n",
    "For favicons, my goto is a simple 1 or 2 letters with a nice font in the same colour scheme as the website. I used [favicon.io](https://favicon.io/) to create mine. You can use emojis too, which I might consider in the future.\n",
    "\n",
    "Here's the stock image I used, credit to [Harper Sunday](https://unsplash.com/@harpersunday) ([source](https://unsplash.com/photos/RmQWqLKsVv8)):\n",
    "\n",
    "![](images/meepo-stock.avif){width=400 fig-align=center}\n",
    "\n",
    "At some point I'd like to start working with a designer for these sorts of things. Let me know if you're interested!\n",
    "\n",
    "This step took about 4 hours total."
   ]
  },
  {
   "cell_type": "markdown",
   "id": "34d2a513",
   "metadata": {},
   "source": [
    "## Image search\n",
    "\n",
    "Thanks to the power of CLIP, it was really easy to add image search after launching the site.\n",
    "\n",
    "Here's how it works. I try to parse the search query, and if it's a URL of an image (and the image isn't larger than some file limit), I download the image (in-memory, I don't wanna store arbitrary files), calculate its CLIP embedding, and use that to find similar images.\n",
    "\n",
    "One possible improvement is to use the average of the image embedding and the text embedding as the query, which I suspect is closer to what users expect from the feature. For example, a user might take an average of the image and the existing text query, which is closer to what I think people would expect.\n",
    "\n",
    "This took 2 hours to implement end-to-end.\n",
    "\n",
    "{{< video videos/meepo-demo-3.mp4 >}}"
   ]
  },
  {
   "cell_type": "markdown",
   "id": "b1b8cd75",
   "metadata": {},
   "source": [
    "## Cost\n",
    "\n",
    "The biggest cost here was really the ~40 hours it took to build. Other than that, Meepo cost me $30/month via Linode. The bottleneck is RAM. I need a 4GB server, which adds a fair bit to the cost, though I definitely could've reduced that by playing around with something like [autofaiss](https://github.com/criteo/autofaiss)."
   ]
  },
  {
   "cell_type": "markdown",
   "id": "1e59f5d7",
   "metadata": {},
   "source": [
    "## That's all folks\n",
    "\n",
    "All-in-all, I had tons of fun working on Meepo!\n",
    "\n",
    "If you found this helpful or entertaining, please do follow me on Twitter [@wasimlorgat](https://twitter.com/wasimlorgat). And if you have any feedback, comments or questions, please feel free to pop me [an email](mailto:mwlorgat@gmail.com).\n",
    "\n",
    "I'm now building my own native macOS Jupyter frontend. If that sounds interesting, the best place to follow along is via Twitter.\n",
    "\n",
    "Take care 👋🏽."
   ]
  },
  {
   "cell_type": "code",
   "execution_count": null,
   "id": "9596f1aa",
   "metadata": {},
   "outputs": [],
   "source": []
  }
 ],
 "metadata": {
  "kernelspec": {
   "display_name": "Python 3 (ipykernel)",
   "language": "python",
   "name": "python3"
  }
 },
 "nbformat": 4,
 "nbformat_minor": 5
}
