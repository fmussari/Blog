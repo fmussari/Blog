{
 "cells": [
  {
   "cell_type": "raw",
   "id": "e6586f28",
   "metadata": {},
   "source": [
    "---\n",
    "title: Build a minimal Jupyter frontend\n",
    "description: A step-by-step guide to interacting with Jupyter Server and creating your own Jupyter frontend.\n",
    "date: ''\n",
    "categories: []\n",
    "draft: true\n",
    "---"
   ]
  },
  {
   "cell_type": "markdown",
   "id": "60f94aeb",
   "metadata": {},
   "source": [
    "**TODO:**\n",
    "    \n",
    "- Where do checkpoints fit in?"
   ]
  },
  {
   "cell_type": "markdown",
   "id": "e0fe2b48",
   "metadata": {},
   "source": [
    "I'm [building my own macOS Jupyter frontend](https://twitter.com/wasimlorgat/status/1611615676220817415?s=20) and writing about my experiences and learnings along the way. In order to do that, I need to be familiar with how Jupyter servers works."
   ]
  },
  {
   "cell_type": "markdown",
   "id": "1b93a17d",
   "metadata": {},
   "source": [
    "This notebook is an executable playground for understanding and communicating with Jupyter servers. You can think of it as a barebones Jupyter frontend, since we'll be implementing the full lifecycle from creating a new notebook, writing code to it, and executing that code."
   ]
  },
  {
   "cell_type": "markdown",
   "id": "65d32e8f",
   "metadata": {},
   "source": [
    "My approach to learning this was a combination of using Chrome dev tools to inspect network requests in Jupyter Lab, and reading the wonderful Jupyter server docs. I'll include links to the relevant docs in each section below."
   ]
  },
  {
   "cell_type": "markdown",
   "id": "e7453993",
   "metadata": {},
   "source": [
    "Let's get started!"
   ]
  },
  {
   "cell_type": "markdown",
   "id": "c8ac361e",
   "metadata": {},
   "source": [
    "## Start the server"
   ]
  },
  {
   "cell_type": "markdown",
   "id": "608bc387",
   "metadata": {},
   "source": [
    "To start, ensure that you're running a Jupyter server in another process (e.g. in a terminal) by running the following command:\n",
    "\n",
    "```sh\n",
    "jupyter server\n",
    "```\n",
    "\n",
    "Then update the `url` and `token` variables below based on the terminal output. For example, it should output something like, but with a different `url` and `token`:\n",
    "\n",
    "```\n",
    "[C 2023-01-07 12:03:57.482 ServerApp]\n",
    "\n",
    "    To access the server, open this file in a browser:\n",
    "        file:///Users/seem/Library/Jupyter/runtime/jpserver-80287-open.html\n",
    "    Or copy and paste one of these URLs:\n",
    "        http://localhost:8890/?token=0799b0472813fd449b0ed5ee97431cc86b97045e88925063\n",
    "     or http://127.0.0.1:8890/?token=0799b0472813fd449b0ed5ee97431cc86b97045e88925063\n",
    "```"
   ]
  },
  {
   "cell_type": "code",
   "execution_count": 257,
   "id": "0d703673",
   "metadata": {},
   "outputs": [],
   "source": [
    "# NB: Update these based on your terminal output\n",
    "url = 'http://localhost:8889/'\n",
    "token = 'e751772ec65096e4d8984765e165de84717174f6dc3f3294'"
   ]
  },
  {
   "cell_type": "markdown",
   "id": "88355f85",
   "metadata": {},
   "source": [
    "## Authenticate"
   ]
  },
  {
   "cell_type": "code",
   "execution_count": 258,
   "id": "c367873a",
   "metadata": {},
   "outputs": [],
   "source": [
    "import requests"
   ]
  },
  {
   "cell_type": "markdown",
   "id": "ceaf92bd",
   "metadata": {},
   "source": [
    "First, we'll do a quick check that there is a server at the defined `url`:"
   ]
  },
  {
   "cell_type": "code",
   "execution_count": 259,
   "id": "49d240b4",
   "metadata": {},
   "outputs": [
    {
     "data": {
      "text/plain": [
       "<Response [200]>"
      ]
     },
     "execution_count": 259,
     "metadata": {},
     "output_type": "execute_result"
    }
   ],
   "source": [
    "requests.get(url)"
   ]
  },
  {
   "cell_type": "markdown",
   "id": "0a172704",
   "metadata": {},
   "source": [
    "Next we need to authenticate. What happens if we try to make a request to an endpoint that requires authentication, for example `GET /api/sessions`?"
   ]
  },
  {
   "cell_type": "code",
   "execution_count": 260,
   "id": "d363c9dd",
   "metadata": {},
   "outputs": [
    {
     "data": {
      "text/plain": [
       "<Response [403]>"
      ]
     },
     "execution_count": 260,
     "metadata": {},
     "output_type": "execute_result"
    }
   ],
   "source": [
    "requests.get(url + 'api/contents')"
   ]
  },
  {
   "cell_type": "markdown",
   "id": "f256a941",
   "metadata": {},
   "source": [
    "It fails with `403 Forbidden`."
   ]
  },
  {
   "cell_type": "markdown",
   "id": "47f59fb6",
   "metadata": {},
   "source": [
    "If we include our token in the `Authorization` header:"
   ]
  },
  {
   "cell_type": "code",
   "execution_count": 261,
   "id": "47341bcd",
   "metadata": {},
   "outputs": [
    {
     "data": {
      "text/plain": [
       "<Response [200]>"
      ]
     },
     "execution_count": 261,
     "metadata": {},
     "output_type": "execute_result"
    }
   ],
   "source": [
    "headers = {'Authorization': f'token {token}'}\n",
    "requests.get(url + 'api/contents', headers=headers)"
   ]
  },
  {
   "cell_type": "markdown",
   "id": "1bfe7b49",
   "metadata": {},
   "source": [
    "... it works!"
   ]
  },
  {
   "cell_type": "markdown",
   "id": "95e71bae",
   "metadata": {},
   "source": [
    "Let's create a `requests.Session` so we don't have to keep specifying headers:"
   ]
  },
  {
   "cell_type": "code",
   "execution_count": 262,
   "id": "c800292c",
   "metadata": {},
   "outputs": [],
   "source": [
    "session = requests.Session()\n",
    "session.headers.update(headers)"
   ]
  },
  {
   "cell_type": "markdown",
   "id": "c7a1f951",
   "metadata": {},
   "source": [
    "## Managing files"
   ]
  },
  {
   "cell_type": "markdown",
   "id": "c183c7cb",
   "metadata": {},
   "source": [
    "### List the contents of a directory"
   ]
  },
  {
   "cell_type": "code",
   "execution_count": 263,
   "id": "85b39fc6",
   "metadata": {},
   "outputs": [],
   "source": [
    "!rm ../temp/*"
   ]
  },
  {
   "cell_type": "markdown",
   "id": "168d322f",
   "metadata": {},
   "source": [
    "`GET /api/contents/<path>` lists the contents of the directory at `path`. You can think of it as `ls`:"
   ]
  },
  {
   "cell_type": "code",
   "execution_count": 264,
   "id": "372abec1",
   "metadata": {},
   "outputs": [
    {
     "data": {
      "text/plain": [
       "{'name': '',\n",
       " 'path': '',\n",
       " 'last_modified': '2023-01-12T08:00:46.849114Z',\n",
       " 'created': '2023-01-12T08:00:46.849114Z',\n",
       " 'content': [],\n",
       " 'format': 'json',\n",
       " 'mimetype': None,\n",
       " 'size': None,\n",
       " 'writable': True,\n",
       " 'type': 'directory'}"
      ]
     },
     "execution_count": 264,
     "metadata": {},
     "output_type": "execute_result"
    }
   ],
   "source": [
    "session.get(url + 'api/contents').json()"
   ]
  },
  {
   "cell_type": "markdown",
   "id": "31c941f7",
   "metadata": {},
   "source": [
    "Since the directory is currently empty, `content` is an empty list."
   ]
  },
  {
   "cell_type": "markdown",
   "id": "0f5da646",
   "metadata": {},
   "source": [
    "### Create an empty notebook"
   ]
  },
  {
   "cell_type": "markdown",
   "id": "44cb092a",
   "metadata": {},
   "source": [
    "`POST /api/contents/<path>` creates an empty file in the directory at `path`. You can specify the `type` of the file in the request body:"
   ]
  },
  {
   "cell_type": "code",
   "execution_count": 265,
   "id": "48a05bd9",
   "metadata": {},
   "outputs": [
    {
     "data": {
      "text/plain": [
       "<Response [201]>"
      ]
     },
     "execution_count": 265,
     "metadata": {},
     "output_type": "execute_result"
    }
   ],
   "source": [
    "session.post(url + 'api/contents', json={'type': 'notebook'})"
   ]
  },
  {
   "cell_type": "markdown",
   "id": "e18d468c",
   "metadata": {},
   "source": [
    "Let's confirm that the file exists with `GET /api/contents`:"
   ]
  },
  {
   "cell_type": "code",
   "execution_count": 266,
   "id": "64d4f91c",
   "metadata": {},
   "outputs": [
    {
     "data": {
      "text/plain": [
       "{'name': '',\n",
       " 'path': '',\n",
       " 'last_modified': '2023-01-12T08:00:49.132088Z',\n",
       " 'created': '2023-01-12T08:00:49.132088Z',\n",
       " 'content': [{'name': 'Untitled.ipynb',\n",
       "   'path': 'Untitled.ipynb',\n",
       "   'last_modified': '2023-01-12T08:00:49.133037Z',\n",
       "   'created': '2023-01-12T08:00:49.133037Z',\n",
       "   'content': None,\n",
       "   'format': None,\n",
       "   'mimetype': None,\n",
       "   'size': 72,\n",
       "   'writable': True,\n",
       "   'type': 'notebook'}],\n",
       " 'format': 'json',\n",
       " 'mimetype': None,\n",
       " 'size': None,\n",
       " 'writable': True,\n",
       " 'type': 'directory'}"
      ]
     },
     "execution_count": 266,
     "metadata": {},
     "output_type": "execute_result"
    }
   ],
   "source": [
    "session.get(url + 'api/contents').json()"
   ]
  },
  {
   "cell_type": "markdown",
   "id": "c1a4ee69",
   "metadata": {},
   "source": [
    "The response is a nested dict. The root dict refers to the root directory as before, however, `content` now contains the newly created notebook file `Untitled.ipynb`."
   ]
  },
  {
   "cell_type": "markdown",
   "id": "1e02eb60",
   "metadata": {},
   "source": [
    "We can get the contents of this file using the same method but referring to the file's path i.e. `GET /api/contents/<path>`:"
   ]
  },
  {
   "cell_type": "code",
   "execution_count": 267,
   "id": "ade22939",
   "metadata": {},
   "outputs": [
    {
     "data": {
      "text/plain": [
       "{'name': 'Untitled.ipynb',\n",
       " 'path': 'Untitled.ipynb',\n",
       " 'last_modified': '2023-01-12T08:00:49.133037Z',\n",
       " 'created': '2023-01-12T08:00:49.133037Z',\n",
       " 'content': {'cells': [], 'metadata': {}, 'nbformat': 4, 'nbformat_minor': 5},\n",
       " 'format': 'json',\n",
       " 'mimetype': None,\n",
       " 'size': 72,\n",
       " 'writable': True,\n",
       " 'type': 'notebook'}"
      ]
     },
     "execution_count": 267,
     "metadata": {},
     "output_type": "execute_result"
    }
   ],
   "source": [
    "data = session.get(url + 'api/contents/Untitled.ipynb').json()\n",
    "data"
   ]
  },
  {
   "cell_type": "markdown",
   "id": "31a54cb7",
   "metadata": {},
   "source": [
    "We're probably most interested in `content`, which contains the JSON content of the notebook:"
   ]
  },
  {
   "cell_type": "code",
   "execution_count": 268,
   "id": "04591521",
   "metadata": {},
   "outputs": [
    {
     "data": {
      "text/plain": [
       "{'cells': [], 'metadata': {}, 'nbformat': 4, 'nbformat_minor': 5}"
      ]
     },
     "execution_count": 268,
     "metadata": {},
     "output_type": "execute_result"
    }
   ],
   "source": [
    "data['content']"
   ]
  },
  {
   "cell_type": "markdown",
   "id": "522f58a1",
   "metadata": {},
   "source": [
    "### Rename a notebook"
   ]
  },
  {
   "cell_type": "markdown",
   "id": "b751c11c",
   "metadata": {},
   "source": [
    "Our newly created file is still named `Untitled.ipynb`. Let's rename it to `sum.ipynb` with `PATCH /api/contents/<path>`:"
   ]
  },
  {
   "cell_type": "code",
   "execution_count": 269,
   "id": "4d7a78d2",
   "metadata": {},
   "outputs": [
    {
     "data": {
      "text/plain": [
       "{'name': 'sum.ipynb',\n",
       " 'path': 'sum.ipynb',\n",
       " 'last_modified': '2023-01-12T08:00:49.133037Z',\n",
       " 'created': '2023-01-12T08:00:51.047123Z',\n",
       " 'content': None,\n",
       " 'format': None,\n",
       " 'mimetype': None,\n",
       " 'size': 72,\n",
       " 'writable': True,\n",
       " 'type': 'notebook'}"
      ]
     },
     "execution_count": 269,
     "metadata": {},
     "output_type": "execute_result"
    }
   ],
   "source": [
    "session.patch(url + 'api/contents/Untitled.ipynb', json={'path': 'sum.ipynb'}).json()"
   ]
  },
  {
   "cell_type": "markdown",
   "id": "5136c604",
   "metadata": {},
   "source": [
    "Confirm that it's been renamed. `Untitled.ipynb` no longer exists:"
   ]
  },
  {
   "cell_type": "code",
   "execution_count": 270,
   "id": "a7bd2873",
   "metadata": {},
   "outputs": [
    {
     "data": {
      "text/plain": [
       "{'message': 'No such file or directory: Untitled.ipynb', 'reason': None}"
      ]
     },
     "execution_count": 270,
     "metadata": {},
     "output_type": "execute_result"
    }
   ],
   "source": [
    "session.get(url + 'api/contents/Untitled.ipynb').json()"
   ]
  },
  {
   "cell_type": "markdown",
   "id": "a5183778",
   "metadata": {},
   "source": [
    "... but `sum.ipynb` does:"
   ]
  },
  {
   "cell_type": "code",
   "execution_count": 271,
   "id": "8dd1d341",
   "metadata": {},
   "outputs": [
    {
     "data": {
      "text/plain": [
       "{'name': 'sum.ipynb',\n",
       " 'path': 'sum.ipynb',\n",
       " 'last_modified': '2023-01-12T08:00:49.133037Z',\n",
       " 'created': '2023-01-12T08:00:51.047123Z',\n",
       " 'content': {'cells': [], 'metadata': {}, 'nbformat': 4, 'nbformat_minor': 5},\n",
       " 'format': 'json',\n",
       " 'mimetype': None,\n",
       " 'size': 72,\n",
       " 'writable': True,\n",
       " 'type': 'notebook'}"
      ]
     },
     "execution_count": 271,
     "metadata": {},
     "output_type": "execute_result"
    }
   ],
   "source": [
    "session.get(url + 'api/contents/sum.ipynb').json()"
   ]
  },
  {
   "cell_type": "markdown",
   "id": "03facbb4",
   "metadata": {},
   "source": [
    "::: {.callout-note}\n",
    "You can also create a file with a specified name using `PUT /api/contents/<path>`, instead of letting the server find a unique named prefixed with `Untitled`.\n",
    ":::"
   ]
  },
  {
   "cell_type": "markdown",
   "id": "04b8dba8",
   "metadata": {},
   "source": [
    "### Update a notebook's contents"
   ]
  },
  {
   "cell_type": "markdown",
   "id": "45786dea",
   "metadata": {},
   "source": [
    "Create a cell and append it to existing contents:"
   ]
  },
  {
   "cell_type": "code",
   "execution_count": 272,
   "id": "b038cde2",
   "metadata": {},
   "outputs": [],
   "source": [
    "cell = {\n",
    "    'cell_type': 'code',\n",
    "    'id': '0',\n",
    "    'metadata': {},\n",
    "    'source': [\n",
    "        '1 + 1\\n',\n",
    "    ],\n",
    "    'outputs': [],\n",
    "    'execution_count': 0,\n",
    "}\n",
    "data = session.get(url + 'api/contents/sum.ipynb').json()\n",
    "data['content']['cells'].append(cell)"
   ]
  },
  {
   "cell_type": "markdown",
   "id": "0c903314",
   "metadata": {},
   "source": [
    "Update the notebook's contents using `PUT /api/contents/<path>`:"
   ]
  },
  {
   "cell_type": "code",
   "execution_count": 273,
   "id": "49a22866",
   "metadata": {},
   "outputs": [
    {
     "data": {
      "text/plain": [
       "<Response [200]>"
      ]
     },
     "execution_count": 273,
     "metadata": {},
     "output_type": "execute_result"
    }
   ],
   "source": [
    "session.put(url + 'api/contents/sum.ipynb', json={'content': data['content'], 'type': 'notebook'})"
   ]
  },
  {
   "cell_type": "markdown",
   "id": "0c74ad78",
   "metadata": {},
   "source": [
    "Confirm that the notebook's been updated. Note that `last_modified` and `content` have both updated:"
   ]
  },
  {
   "cell_type": "code",
   "execution_count": 274,
   "id": "0d9911bc",
   "metadata": {},
   "outputs": [
    {
     "data": {
      "text/plain": [
       "{'name': 'sum.ipynb',\n",
       " 'path': 'sum.ipynb',\n",
       " 'last_modified': '2023-01-12T08:00:52.863452Z',\n",
       " 'created': '2023-01-12T08:00:52.863452Z',\n",
       " 'content': {'cells': [{'cell_type': 'code',\n",
       "    'execution_count': 0,\n",
       "    'id': '0',\n",
       "    'metadata': {'trusted': True},\n",
       "    'outputs': [],\n",
       "    'source': '1 + 1\\n'}],\n",
       "  'metadata': {},\n",
       "  'nbformat': 4,\n",
       "  'nbformat_minor': 5},\n",
       " 'format': 'json',\n",
       " 'mimetype': None,\n",
       " 'size': 216,\n",
       " 'writable': True,\n",
       " 'type': 'notebook'}"
      ]
     },
     "execution_count": 274,
     "metadata": {},
     "output_type": "execute_result"
    }
   ],
   "source": [
    "session.get(url + 'api/contents/sum.ipynb').json()"
   ]
  },
  {
   "cell_type": "markdown",
   "id": "ab1be0ce",
   "metadata": {},
   "source": [
    "## Executing code"
   ]
  },
  {
   "cell_type": "markdown",
   "id": "fc3ecf43",
   "metadata": {},
   "source": [
    "### Start a session"
   ]
  },
  {
   "cell_type": "markdown",
   "id": "76c89850",
   "metadata": {},
   "source": [
    "List open sessions with `GET /api/sessions`:"
   ]
  },
  {
   "cell_type": "code",
   "execution_count": 275,
   "id": "ce195815",
   "metadata": {},
   "outputs": [
    {
     "data": {
      "text/plain": [
       "[]"
      ]
     },
     "execution_count": 275,
     "metadata": {},
     "output_type": "execute_result"
    }
   ],
   "source": [
    "session.get(url + 'api/sessions').json()"
   ]
  },
  {
   "cell_type": "markdown",
   "id": "3853f527",
   "metadata": {},
   "source": [
    "First we need to choose a kernel specification. Here are the available options:"
   ]
  },
  {
   "cell_type": "code",
   "execution_count": 276,
   "id": "af0e5f5e",
   "metadata": {},
   "outputs": [
    {
     "data": {
      "text/plain": [
       "{'default': 'python3',\n",
       " 'kernelspecs': {'dyalog-kernel': {'name': 'dyalog-kernel',\n",
       "   'spec': {'argv': ['python3',\n",
       "     '-m',\n",
       "     'dyalog_kernel',\n",
       "     '-f',\n",
       "     '{connection_file}'],\n",
       "    'env': {},\n",
       "    'display_name': 'Dyalog APL',\n",
       "    'language': 'apl',\n",
       "    'interrupt_mode': 'signal',\n",
       "    'metadata': {}},\n",
       "   'resources': {'kernel.js': '/kernelspecs/dyalog-kernel/kernel.js'}},\n",
       "  'python3': {'name': 'python3',\n",
       "   'spec': {'argv': ['python',\n",
       "     '-m',\n",
       "     'ipykernel_launcher',\n",
       "     '-f',\n",
       "     '{connection_file}'],\n",
       "    'env': {},\n",
       "    'display_name': 'Python 3 (ipykernel)',\n",
       "    'language': 'python',\n",
       "    'interrupt_mode': 'signal',\n",
       "    'metadata': {'debugger': True}},\n",
       "   'resources': {'logo-64x64': '/kernelspecs/python3/logo-64x64.png',\n",
       "    'logo-32x32': '/kernelspecs/python3/logo-32x32.png',\n",
       "    'logo-svg': '/kernelspecs/python3/logo-svg.svg'}}}}"
      ]
     },
     "execution_count": 276,
     "metadata": {},
     "output_type": "execute_result"
    }
   ],
   "source": [
    "session.get(url + 'api/kernelspecs').json()"
   ]
  },
  {
   "cell_type": "markdown",
   "id": "71e22bfb",
   "metadata": {},
   "source": [
    "Create a new session with `POST /api/sessions` with the `python3` kernelspec:"
   ]
  },
  {
   "cell_type": "markdown",
   "id": "a2c22eec",
   "metadata": {},
   "source": [
    "Note: Jupyter first creates a session with `path` as some UUID, then `GET`s the session, and patches the path."
   ]
  },
  {
   "cell_type": "markdown",
   "id": "31d76251",
   "metadata": {},
   "source": [
    "Note: If a session already exists with the specified `name`, it'll be returned."
   ]
  },
  {
   "cell_type": "code",
   "execution_count": 277,
   "id": "610d1c0d",
   "metadata": {},
   "outputs": [
    {
     "data": {
      "text/plain": [
       "{'id': 'c07a24b5-cea7-457c-a8eb-0bea14f84771',\n",
       " 'path': 'sum.ipynb',\n",
       " 'name': 'sum.ipynb',\n",
       " 'type': 'notebook',\n",
       " 'kernel': {'id': 'b01228ec-72a7-400b-a604-9d61ca134d01',\n",
       "  'name': 'python3',\n",
       "  'last_activity': '2023-01-12T08:01:00.310102Z',\n",
       "  'execution_state': 'starting',\n",
       "  'connections': 0},\n",
       " 'notebook': {'path': 'sum.ipynb', 'name': 'sum.ipynb'}}"
      ]
     },
     "execution_count": 277,
     "metadata": {},
     "output_type": "execute_result"
    }
   ],
   "source": [
    "data = session.post(url + 'api/sessions', json={'kernel': {'name': 'python3'}, 'name': 'sum.ipynb', 'path': 'sum.ipynb', 'type': 'notebook'}).json()\n",
    "data"
   ]
  },
  {
   "cell_type": "code",
   "execution_count": 278,
   "id": "fc2e3cb2",
   "metadata": {},
   "outputs": [
    {
     "data": {
      "text/plain": [
       "{'id': 'c07a24b5-cea7-457c-a8eb-0bea14f84771',\n",
       " 'path': 'sum.ipynb',\n",
       " 'name': 'sum.ipynb',\n",
       " 'type': 'notebook',\n",
       " 'kernel': {'id': 'b01228ec-72a7-400b-a604-9d61ca134d01',\n",
       "  'name': 'python3',\n",
       "  'last_activity': '2023-01-12T08:01:00.310102Z',\n",
       "  'execution_state': 'starting',\n",
       "  'connections': 0},\n",
       " 'notebook': {'path': 'sum.ipynb', 'name': 'sum.ipynb'}}"
      ]
     },
     "execution_count": 278,
     "metadata": {},
     "output_type": "execute_result"
    }
   ],
   "source": [
    "data = session.get(url + f'api/sessions/{data[\"id\"]}').json()\n",
    "data"
   ]
  },
  {
   "cell_type": "markdown",
   "id": "788315bb",
   "metadata": {},
   "source": [
    "### Open a WebSocket"
   ]
  },
  {
   "cell_type": "markdown",
   "id": "8bf3a282",
   "metadata": {},
   "source": [
    "We'll use the [websockets](https://websockets.readthedocs.io/en/stable/) library."
   ]
  },
  {
   "cell_type": "code",
   "execution_count": 280,
   "id": "9c0165b0",
   "metadata": {},
   "outputs": [
    {
     "name": "stdout",
     "output_type": "stream",
     "text": [
      "Overwriting test.py\n"
     ]
    }
   ],
   "source": [
    "%%writefile test.py\n",
    "import asyncio\n",
    "import datetime\n",
    "import json\n",
    "import websockets\n",
    "import uuid\n",
    "\n",
    "port = 8889\n",
    "kernel_id = 'b01228ec-72a7-400b-a604-9d61ca134d01'\n",
    "session_id = 'c07a24b5-cea7-457c-a8eb-0bea14f84771'\n",
    "token = 'e751772ec65096e4d8984765e165de84717174f6dc3f3294'\n",
    "\n",
    "code = '1 + 1'\n",
    "code_msg_date = datetime.datetime.utcnow().isoformat()\n",
    "code_msg_id = str(uuid.uuid1())\n",
    "code_msg_d = {'buffers':[],'channel':'shell','content':{'silent':False,'store_history':True,'user_expressions':{},'allow_stdin':True,'stop_on_error':True,'code':code},\n",
    "              'header':{'date':code_msg_date,'msg_id':code_msg_id,'msg_type':'execute_request','session':session_id,'username':'','version':'5.2'},\n",
    "              'metadata':{'deletedCells':[],'recordTiming':False,'cellId':'0'},'parent_header':{}}\n",
    "code_msg = json.dumps(code_msg_d)\n",
    "\n",
    "def print_header(s, n=140):\n",
    "    print('-'*n)\n",
    "    print(s)\n",
    "    print('-'*n)\n",
    "\n",
    "def print_msg(msg):\n",
    "    print(f\"Received message      msg_type: {msg['msg_type']:16} content: {msg['content']}\")\n",
    "\n",
    "async def recv_json(websocket):\n",
    "    return json.loads(await websocket.recv())\n",
    "\n",
    "async def main():\n",
    "    async with websockets.connect(f'ws://localhost:{port}/api/kernels/{kernel_id}/channels?session_id={session_id}', extra_headers={'Authorization': f'token {token}'}) as websocket:\n",
    "        print_header('Receive initial messages')\n",
    "        while True:\n",
    "            try: msg = await asyncio.wait_for(recv_json(websocket), 1)\n",
    "            except asyncio.TimeoutError: break\n",
    "            print_msg(msg)\n",
    "        \n",
    "        print_header('Send execute_request')\n",
    "        await websocket.send(code_msg)\n",
    "\n",
    "        print_header('Receive execute_reply')\n",
    "        while True:\n",
    "            try: msg = await asyncio.wait_for(recv_json(websocket), 1)\n",
    "            except TimeoutError: break\n",
    "            print_msg(msg)\n",
    "            if msg['msg_type'] == 'status' and msg['content']['execution_state'] == 'idle': break\n",
    "\n",
    "asyncio.run(main())"
   ]
  },
  {
   "cell_type": "code",
   "execution_count": 281,
   "id": "9c290137",
   "metadata": {},
   "outputs": [
    {
     "name": "stdout",
     "output_type": "stream",
     "text": [
      "--------------------------------------------------------------------------------------------------------------------------------------------\n",
      "Receive initial messages\n",
      "--------------------------------------------------------------------------------------------------------------------------------------------\n",
      "Received message      msg_type: status           content: {'execution_state': 'busy'}\n",
      "Received message      msg_type: status           content: {'execution_state': 'idle'}\n",
      "Received message      msg_type: status           content: {'execution_state': 'idle'}\n",
      "--------------------------------------------------------------------------------------------------------------------------------------------\n",
      "Send execute_request\n",
      "--------------------------------------------------------------------------------------------------------------------------------------------\n",
      "--------------------------------------------------------------------------------------------------------------------------------------------\n",
      "Receive execute_reply\n",
      "--------------------------------------------------------------------------------------------------------------------------------------------\n",
      "Received message      msg_type: status           content: {'execution_state': 'busy'}\n",
      "Received message      msg_type: execute_input    content: {'code': '1 + 1', 'execution_count': 1}\n",
      "Received message      msg_type: execute_result   content: {'data': {'text/plain': '2'}, 'metadata': {}, 'execution_count': 1}\n",
      "Received message      msg_type: status           content: {'execution_state': 'idle'}\n"
     ]
    }
   ],
   "source": [
    "!python test.py"
   ]
  },
  {
   "cell_type": "code",
   "execution_count": 303,
   "id": "ee798a95",
   "metadata": {},
   "outputs": [],
   "source": [
    "!rm test.py"
   ]
  },
  {
   "cell_type": "markdown",
   "id": "06e20c42",
   "metadata": {},
   "source": [
    "## Cleanup"
   ]
  },
  {
   "cell_type": "markdown",
   "id": "6ab46ee5",
   "metadata": {},
   "source": [
    "### Close the session"
   ]
  },
  {
   "cell_type": "code",
   "execution_count": 282,
   "id": "49392624",
   "metadata": {},
   "outputs": [
    {
     "data": {
      "text/plain": [
       "<Response [204]>"
      ]
     },
     "execution_count": 282,
     "metadata": {},
     "output_type": "execute_result"
    }
   ],
   "source": [
    "session.delete(url + f'api/sessions/{data[\"id\"]}')"
   ]
  },
  {
   "cell_type": "markdown",
   "id": "8c497d1c",
   "metadata": {},
   "source": [
    "### Shutdown the server"
   ]
  },
  {
   "cell_type": "code",
   "execution_count": 283,
   "id": "5382054c",
   "metadata": {},
   "outputs": [
    {
     "data": {
      "text/plain": [
       "<Response [200]>"
      ]
     },
     "execution_count": 283,
     "metadata": {},
     "output_type": "execute_result"
    }
   ],
   "source": [
    "session.post(url + 'api/shutdown')"
   ]
  },
  {
   "cell_type": "code",
   "execution_count": 302,
   "id": "0bced2c9",
   "metadata": {},
   "outputs": [
    {
     "name": "stdout",
     "output_type": "stream",
     "text": [
      "Server has been successfully shutdown!\n"
     ]
    }
   ],
   "source": [
    "try: session.get(url)\n",
    "except requests.exceptions.ConnectionError: print('Server has been successfully shutdown!')"
   ]
  }
 ],
 "metadata": {
  "kernelspec": {
   "display_name": "Python 3 (ipykernel)",
   "language": "python",
   "name": "python3"
  },
  "language_info": {
   "codemirror_mode": {
    "name": "ipython",
    "version": 3
   },
   "file_extension": ".py",
   "mimetype": "text/x-python",
   "name": "python",
   "nbconvert_exporter": "python",
   "pygments_lexer": "ipython3",
   "version": "3.9.16"
  },
  "toc": {
   "base_numbering": 1,
   "nav_menu": {},
   "number_sections": false,
   "sideBar": true,
   "skip_h1_title": false,
   "title_cell": "Table of Contents",
   "title_sidebar": "Contents",
   "toc_cell": false,
   "toc_position": {
    "height": "calc(100% - 180px)",
    "left": "10px",
    "top": "150px",
    "width": "384px"
   },
   "toc_section_display": true,
   "toc_window_display": false
  }
 },
 "nbformat": 4,
 "nbformat_minor": 5
}
