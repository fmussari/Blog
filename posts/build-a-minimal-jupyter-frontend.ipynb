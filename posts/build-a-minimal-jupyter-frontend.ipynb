{
 "cells": [
  {
   "cell_type": "raw",
   "id": "e6586f28",
   "metadata": {},
   "source": [
    "---\n",
    "title: Build a minimal Jupyter frontend\n",
    "description: A step-by-step guide to interacting with Jupyter Server and creating your own Jupyter frontend.\n",
    "date: ''\n",
    "categories: []\n",
    "draft: true\n",
    "---"
   ]
  },
  {
   "cell_type": "markdown",
   "id": "e0fe2b48",
   "metadata": {},
   "source": [
    "I'm [building my own macOS Jupyter frontend](https://twitter.com/wasimlorgat/status/1611615676220817415?s=20) and writing about my experiences and learnings along the way. In order to do that, I need to be familiar with how Jupyter servers works."
   ]
  },
  {
   "cell_type": "markdown",
   "id": "1b93a17d",
   "metadata": {},
   "source": [
    "This notebook is an executable playground for understanding and communicating with Jupyter servers. You can think of it as a barebones Jupyter frontend, since we'll be implementing the full lifecycle from creating a new notebook, writing code to it, and executing that code."
   ]
  },
  {
   "cell_type": "markdown",
   "id": "65d32e8f",
   "metadata": {},
   "source": [
    "My approach to learning this was a combination of using Chrome dev tools to inspect network requests in Jupyter Lab, and reading the wonderful Jupyter server docs. I'll include links to the relevant docs in each section below."
   ]
  },
  {
   "cell_type": "markdown",
   "id": "e7453993",
   "metadata": {},
   "source": [
    "Let's get started!"
   ]
  },
  {
   "cell_type": "markdown",
   "id": "c8ac361e",
   "metadata": {},
   "source": [
    "## Start the server"
   ]
  },
  {
   "cell_type": "markdown",
   "id": "608bc387",
   "metadata": {},
   "source": [
    "To start, ensure that you're running a Jupyter server in another process (e.g. in a terminal) by running the following command:\n",
    "\n",
    "```sh\n",
    "jupyter server\n",
    "```\n",
    "\n",
    "Then update the `url` and `token` variables below based on the terminal output. For example, it should output something like, but with a different `url` and `token`:\n",
    "\n",
    "```\n",
    "[C 2023-01-07 12:03:57.482 ServerApp]\n",
    "\n",
    "    To access the server, open this file in a browser:\n",
    "        file:///Users/seem/Library/Jupyter/runtime/jpserver-80287-open.html\n",
    "    Or copy and paste one of these URLs:\n",
    "        http://localhost:8890/?token=0799b0472813fd449b0ed5ee97431cc86b97045e88925063\n",
    "     or http://127.0.0.1:8890/?token=0799b0472813fd449b0ed5ee97431cc86b97045e88925063\n",
    "```"
   ]
  },
  {
   "cell_type": "code",
   "execution_count": 7,
   "id": "0d703673",
   "metadata": {},
   "outputs": [],
   "source": [
    "# NB: Update these based on your terminal output\n",
    "url = 'http://localhost:8889/'\n",
    "token = '14b5074a5c572641122bee0990554bbe2068c6ce4e236e68'"
   ]
  },
  {
   "cell_type": "markdown",
   "id": "88355f85",
   "metadata": {},
   "source": [
    "## Authenticate"
   ]
  },
  {
   "cell_type": "code",
   "execution_count": 17,
   "id": "c367873a",
   "metadata": {},
   "outputs": [],
   "source": [
    "import requests"
   ]
  },
  {
   "cell_type": "markdown",
   "id": "ceaf92bd",
   "metadata": {},
   "source": [
    "First, we'll do a quick check that there is a server at the defined `url`:"
   ]
  },
  {
   "cell_type": "code",
   "execution_count": 80,
   "id": "49d240b4",
   "metadata": {},
   "outputs": [
    {
     "data": {
      "text/plain": [
       "<Response [200]>"
      ]
     },
     "execution_count": 80,
     "metadata": {},
     "output_type": "execute_result"
    }
   ],
   "source": [
    "requests.get(url)"
   ]
  },
  {
   "cell_type": "markdown",
   "id": "0a172704",
   "metadata": {},
   "source": [
    "Next we need to authenticate. What happens if we try to make a request to an endpoint that requires authentication, for example `GET /api/sessions`?"
   ]
  },
  {
   "cell_type": "code",
   "execution_count": 81,
   "id": "d363c9dd",
   "metadata": {},
   "outputs": [
    {
     "data": {
      "text/plain": [
       "<Response [403]>"
      ]
     },
     "execution_count": 81,
     "metadata": {},
     "output_type": "execute_result"
    }
   ],
   "source": [
    "requests.get(url + 'api/contents')"
   ]
  },
  {
   "cell_type": "markdown",
   "id": "f256a941",
   "metadata": {},
   "source": [
    "It fails with `403 Forbidden`."
   ]
  },
  {
   "cell_type": "markdown",
   "id": "47f59fb6",
   "metadata": {},
   "source": [
    "If we include our token in the `Authorization` header:"
   ]
  },
  {
   "cell_type": "code",
   "execution_count": 82,
   "id": "47341bcd",
   "metadata": {},
   "outputs": [
    {
     "data": {
      "text/plain": [
       "<Response [200]>"
      ]
     },
     "execution_count": 82,
     "metadata": {},
     "output_type": "execute_result"
    }
   ],
   "source": [
    "headers = {'Authorization': f'token {token}'}\n",
    "requests.get(url + 'api/contents', headers=headers)"
   ]
  },
  {
   "cell_type": "markdown",
   "id": "1bfe7b49",
   "metadata": {},
   "source": [
    "... it works!"
   ]
  },
  {
   "cell_type": "markdown",
   "id": "95e71bae",
   "metadata": {},
   "source": [
    "Let's create a `requests.Session` so we don't have to keep specifying headers:"
   ]
  },
  {
   "cell_type": "code",
   "execution_count": 87,
   "id": "c800292c",
   "metadata": {},
   "outputs": [],
   "source": [
    "session = requests.Session()\n",
    "session.headers.update(headers)"
   ]
  },
  {
   "cell_type": "markdown",
   "id": "c7a1f951",
   "metadata": {},
   "source": [
    "## Managing files"
   ]
  },
  {
   "cell_type": "markdown",
   "id": "c183c7cb",
   "metadata": {},
   "source": [
    "### List the contents of a directory"
   ]
  },
  {
   "cell_type": "code",
   "execution_count": 125,
   "id": "85b39fc6",
   "metadata": {},
   "outputs": [],
   "source": [
    "!rm ../temp/*"
   ]
  },
  {
   "cell_type": "markdown",
   "id": "168d322f",
   "metadata": {},
   "source": [
    "`GET /api/contents/<path>` lists the contents of the directory at `path`. You can think of it as `ls`:"
   ]
  },
  {
   "cell_type": "code",
   "execution_count": 126,
   "id": "372abec1",
   "metadata": {},
   "outputs": [
    {
     "data": {
      "text/plain": [
       "{'name': '',\n",
       " 'path': '',\n",
       " 'last_modified': '2023-01-10T11:40:43.870966Z',\n",
       " 'created': '2023-01-10T11:40:43.870966Z',\n",
       " 'content': [],\n",
       " 'format': 'json',\n",
       " 'mimetype': None,\n",
       " 'size': None,\n",
       " 'writable': True,\n",
       " 'type': 'directory'}"
      ]
     },
     "execution_count": 126,
     "metadata": {},
     "output_type": "execute_result"
    }
   ],
   "source": [
    "session.get(url + 'api/contents').json()"
   ]
  },
  {
   "cell_type": "markdown",
   "id": "31c941f7",
   "metadata": {},
   "source": [
    "Since the directory is currently empty, `content` is an empty list."
   ]
  },
  {
   "cell_type": "markdown",
   "id": "0f5da646",
   "metadata": {},
   "source": [
    "### Create an empty notebook"
   ]
  },
  {
   "cell_type": "markdown",
   "id": "44cb092a",
   "metadata": {},
   "source": [
    "`POST /api/contents/<path>` creates an empty file in the directory at `path`. You can specify the `type` of the file in the request body:"
   ]
  },
  {
   "cell_type": "code",
   "execution_count": 127,
   "id": "48a05bd9",
   "metadata": {},
   "outputs": [
    {
     "data": {
      "text/plain": [
       "<Response [201]>"
      ]
     },
     "execution_count": 127,
     "metadata": {},
     "output_type": "execute_result"
    }
   ],
   "source": [
    "session.post(url + 'api/contents', json={'type': 'notebook'})"
   ]
  },
  {
   "cell_type": "markdown",
   "id": "e18d468c",
   "metadata": {},
   "source": [
    "Let's confirm that the file exists with `GET /api/contents`:"
   ]
  },
  {
   "cell_type": "code",
   "execution_count": 128,
   "id": "64d4f91c",
   "metadata": {},
   "outputs": [
    {
     "data": {
      "text/plain": [
       "{'name': '',\n",
       " 'path': '',\n",
       " 'last_modified': '2023-01-10T11:40:44.847743Z',\n",
       " 'created': '2023-01-10T11:40:44.847743Z',\n",
       " 'content': [{'name': 'Untitled.ipynb',\n",
       "   'path': 'Untitled.ipynb',\n",
       "   'last_modified': '2023-01-10T11:40:44.849035Z',\n",
       "   'created': '2023-01-10T11:40:44.849035Z',\n",
       "   'content': None,\n",
       "   'format': None,\n",
       "   'mimetype': None,\n",
       "   'size': 72,\n",
       "   'writable': True,\n",
       "   'type': 'notebook'}],\n",
       " 'format': 'json',\n",
       " 'mimetype': None,\n",
       " 'size': None,\n",
       " 'writable': True,\n",
       " 'type': 'directory'}"
      ]
     },
     "execution_count": 128,
     "metadata": {},
     "output_type": "execute_result"
    }
   ],
   "source": [
    "session.get(url + 'api/contents').json()"
   ]
  },
  {
   "cell_type": "markdown",
   "id": "c1a4ee69",
   "metadata": {},
   "source": [
    "The response is a nested dict. The root dict refers to the root directory as before, however, `content` now contains the newly created notebook file `Untitled.ipynb`."
   ]
  },
  {
   "cell_type": "markdown",
   "id": "1e02eb60",
   "metadata": {},
   "source": [
    "We can get the contents of this file using the same method but referring to the file's path i.e. `GET /api/contents/<path>`:"
   ]
  },
  {
   "cell_type": "code",
   "execution_count": 129,
   "id": "ade22939",
   "metadata": {},
   "outputs": [
    {
     "data": {
      "text/plain": [
       "{'name': 'Untitled.ipynb',\n",
       " 'path': 'Untitled.ipynb',\n",
       " 'last_modified': '2023-01-10T11:40:44.849035Z',\n",
       " 'created': '2023-01-10T11:40:44.849035Z',\n",
       " 'content': {'cells': [], 'metadata': {}, 'nbformat': 4, 'nbformat_minor': 5},\n",
       " 'format': 'json',\n",
       " 'mimetype': None,\n",
       " 'size': 72,\n",
       " 'writable': True,\n",
       " 'type': 'notebook'}"
      ]
     },
     "execution_count": 129,
     "metadata": {},
     "output_type": "execute_result"
    }
   ],
   "source": [
    "data = session.get(url + 'api/contents/Untitled.ipynb').json()\n",
    "data"
   ]
  },
  {
   "cell_type": "markdown",
   "id": "31a54cb7",
   "metadata": {},
   "source": [
    "We're probably most interested in `content`, which contains the JSON content of the notebook:"
   ]
  },
  {
   "cell_type": "code",
   "execution_count": 130,
   "id": "04591521",
   "metadata": {},
   "outputs": [
    {
     "data": {
      "text/plain": [
       "{'cells': [], 'metadata': {}, 'nbformat': 4, 'nbformat_minor': 5}"
      ]
     },
     "execution_count": 130,
     "metadata": {},
     "output_type": "execute_result"
    }
   ],
   "source": [
    "data['content']"
   ]
  },
  {
   "cell_type": "markdown",
   "id": "522f58a1",
   "metadata": {},
   "source": [
    "### Rename a notebook"
   ]
  },
  {
   "cell_type": "markdown",
   "id": "b751c11c",
   "metadata": {},
   "source": [
    "Our newly created file is still named `Untitled.ipynb`. Let's rename it to `sum.ipynb` with `PATCH /api/contents/<path>`:"
   ]
  },
  {
   "cell_type": "code",
   "execution_count": 131,
   "id": "4d7a78d2",
   "metadata": {},
   "outputs": [
    {
     "data": {
      "text/plain": [
       "{'name': 'sum.ipynb',\n",
       " 'path': 'sum.ipynb',\n",
       " 'last_modified': '2023-01-10T11:40:44.849035Z',\n",
       " 'created': '2023-01-10T11:40:46.480364Z',\n",
       " 'content': None,\n",
       " 'format': None,\n",
       " 'mimetype': None,\n",
       " 'size': 72,\n",
       " 'writable': True,\n",
       " 'type': 'notebook'}"
      ]
     },
     "execution_count": 131,
     "metadata": {},
     "output_type": "execute_result"
    }
   ],
   "source": [
    "session.patch(url + 'api/contents/Untitled.ipynb', json={'path': 'sum.ipynb'}).json()"
   ]
  },
  {
   "cell_type": "markdown",
   "id": "5136c604",
   "metadata": {},
   "source": [
    "Confirm that it's been renamed. `Untitled.ipynb` no longer exists:"
   ]
  },
  {
   "cell_type": "code",
   "execution_count": 132,
   "id": "a7bd2873",
   "metadata": {},
   "outputs": [
    {
     "data": {
      "text/plain": [
       "{'message': 'No such file or directory: Untitled.ipynb', 'reason': None}"
      ]
     },
     "execution_count": 132,
     "metadata": {},
     "output_type": "execute_result"
    }
   ],
   "source": [
    "session.get(url + 'api/contents/Untitled.ipynb').json()"
   ]
  },
  {
   "cell_type": "markdown",
   "id": "a5183778",
   "metadata": {},
   "source": [
    "... but `sum.ipynb` does:"
   ]
  },
  {
   "cell_type": "code",
   "execution_count": 133,
   "id": "8dd1d341",
   "metadata": {},
   "outputs": [
    {
     "data": {
      "text/plain": [
       "{'name': 'sum.ipynb',\n",
       " 'path': 'sum.ipynb',\n",
       " 'last_modified': '2023-01-10T11:40:44.849035Z',\n",
       " 'created': '2023-01-10T11:40:46.480364Z',\n",
       " 'content': {'cells': [], 'metadata': {}, 'nbformat': 4, 'nbformat_minor': 5},\n",
       " 'format': 'json',\n",
       " 'mimetype': None,\n",
       " 'size': 72,\n",
       " 'writable': True,\n",
       " 'type': 'notebook'}"
      ]
     },
     "execution_count": 133,
     "metadata": {},
     "output_type": "execute_result"
    }
   ],
   "source": [
    "session.get(url + 'api/contents/sum.ipynb').json()"
   ]
  },
  {
   "cell_type": "markdown",
   "id": "03facbb4",
   "metadata": {},
   "source": [
    "::: {.callout-note}\n",
    "You can also create a file with a specified name using `PUT /api/contents/<path>`, instead of letting the server find a unique named prefixed with `Untitled`.\n",
    ":::"
   ]
  },
  {
   "cell_type": "markdown",
   "id": "04b8dba8",
   "metadata": {},
   "source": [
    "### Update a notebook's contents"
   ]
  },
  {
   "cell_type": "markdown",
   "id": "45786dea",
   "metadata": {},
   "source": [
    "Create a cell and append it to existing contents:"
   ]
  },
  {
   "cell_type": "code",
   "execution_count": 143,
   "id": "b038cde2",
   "metadata": {},
   "outputs": [],
   "source": [
    "cell = {\n",
    "    'cell_type': 'code',\n",
    "    'id': '0',\n",
    "    'metadata': {},\n",
    "    'source': [\n",
    "        '1 + 1\\n',\n",
    "    ],\n",
    "    'outputs': [],\n",
    "    'execution_count': 0,\n",
    "}\n",
    "data = session.get(url + 'api/contents/sum.ipynb').json()\n",
    "data['content']['cells'].append(cell)"
   ]
  },
  {
   "cell_type": "markdown",
   "id": "0c903314",
   "metadata": {},
   "source": [
    "Update the notebook's contents using `PUT /api/contents/<path>`:"
   ]
  },
  {
   "cell_type": "code",
   "execution_count": 144,
   "id": "49a22866",
   "metadata": {},
   "outputs": [
    {
     "data": {
      "text/plain": [
       "<Response [200]>"
      ]
     },
     "execution_count": 144,
     "metadata": {},
     "output_type": "execute_result"
    }
   ],
   "source": [
    "session.put(url + 'api/contents/sum.ipynb', json={'content': data['content'], 'type': 'notebook'})"
   ]
  },
  {
   "cell_type": "markdown",
   "id": "0c74ad78",
   "metadata": {},
   "source": [
    "Confirm that the notebook's been updated. Note that `last_modified` and `content` have both updated:"
   ]
  },
  {
   "cell_type": "code",
   "execution_count": 141,
   "id": "0d9911bc",
   "metadata": {},
   "outputs": [
    {
     "data": {
      "text/plain": [
       "{'name': 'sum.ipynb',\n",
       " 'path': 'sum.ipynb',\n",
       " 'last_modified': '2023-01-10T11:40:50.112357Z',\n",
       " 'created': '2023-01-10T11:40:50.112357Z',\n",
       " 'content': {'cells': [{'cell_type': 'code',\n",
       "    'execution_count': 0,\n",
       "    'id': '0',\n",
       "    'metadata': {'trusted': True},\n",
       "    'outputs': [],\n",
       "    'source': '1 + 1\\n'}],\n",
       "  'metadata': {},\n",
       "  'nbformat': 4,\n",
       "  'nbformat_minor': 5},\n",
       " 'format': 'json',\n",
       " 'mimetype': None,\n",
       " 'size': 216,\n",
       " 'writable': True,\n",
       " 'type': 'notebook'}"
      ]
     },
     "execution_count": 141,
     "metadata": {},
     "output_type": "execute_result"
    }
   ],
   "source": [
    "session.get(url + 'api/contents/sum.ipynb').json()"
   ]
  },
  {
   "cell_type": "markdown",
   "id": "ab1be0ce",
   "metadata": {},
   "source": [
    "## Executing code"
   ]
  },
  {
   "cell_type": "markdown",
   "id": "fc3ecf43",
   "metadata": {},
   "source": [
    "### Start a session"
   ]
  },
  {
   "cell_type": "markdown",
   "id": "788315bb",
   "metadata": {},
   "source": [
    "### Open a WebSocket"
   ]
  },
  {
   "cell_type": "markdown",
   "id": "b7fc4e15",
   "metadata": {},
   "source": [
    "### Send an `execute_request`"
   ]
  },
  {
   "cell_type": "markdown",
   "id": "75bdeb62",
   "metadata": {},
   "source": [
    "### Parse the responses"
   ]
  },
  {
   "cell_type": "markdown",
   "id": "06e20c42",
   "metadata": {},
   "source": [
    "## Cleanup"
   ]
  },
  {
   "cell_type": "markdown",
   "id": "675cb063",
   "metadata": {},
   "source": [
    "### Close the WebSocket"
   ]
  },
  {
   "cell_type": "markdown",
   "id": "6ab46ee5",
   "metadata": {},
   "source": [
    "### Close the session"
   ]
  },
  {
   "cell_type": "markdown",
   "id": "33b8f704",
   "metadata": {},
   "source": [
    "### Save and close the file"
   ]
  },
  {
   "cell_type": "markdown",
   "id": "8c497d1c",
   "metadata": {},
   "source": [
    "### Shutdown the server"
   ]
  }
 ],
 "metadata": {
  "kernelspec": {
   "display_name": "Python 3 (ipykernel)",
   "language": "python",
   "name": "python3"
  },
  "language_info": {
   "codemirror_mode": {
    "name": "ipython",
    "version": 3
   },
   "file_extension": ".py",
   "mimetype": "text/x-python",
   "name": "python",
   "nbconvert_exporter": "python",
   "pygments_lexer": "ipython3",
   "version": "3.9.16"
  },
  "toc": {
   "base_numbering": 1,
   "nav_menu": {},
   "number_sections": false,
   "sideBar": true,
   "skip_h1_title": false,
   "title_cell": "Table of Contents",
   "title_sidebar": "Contents",
   "toc_cell": false,
   "toc_position": {
    "height": "calc(100% - 180px)",
    "left": "10px",
    "top": "150px",
    "width": "384px"
   },
   "toc_section_display": true,
   "toc_window_display": false
  }
 },
 "nbformat": 4,
 "nbformat_minor": 5
}
